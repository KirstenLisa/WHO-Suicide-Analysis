{
 "cells": [
  {
   "cell_type": "code",
   "execution_count": 1,
   "metadata": {},
   "outputs": [],
   "source": [
    "import pandas as pd"
   ]
  },
  {
   "cell_type": "code",
   "execution_count": 2,
   "metadata": {},
   "outputs": [],
   "source": [
    "import matplotlib.pyplot as plt"
   ]
  },
  {
   "cell_type": "code",
   "execution_count": 3,
   "metadata": {},
   "outputs": [],
   "source": [
    "import numpy as np"
   ]
  },
  {
   "cell_type": "code",
   "execution_count": 4,
   "metadata": {},
   "outputs": [],
   "source": [
    "import seaborn as sns"
   ]
  },
  {
   "cell_type": "code",
   "execution_count": 5,
   "metadata": {},
   "outputs": [],
   "source": [
    "sns.set()"
   ]
  },
  {
   "cell_type": "code",
   "execution_count": 106,
   "metadata": {},
   "outputs": [],
   "source": [
    "import scipy"
   ]
  },
  {
   "cell_type": "code",
   "execution_count": 107,
   "metadata": {},
   "outputs": [],
   "source": [
    "from scipy import stats"
   ]
  },
  {
   "cell_type": "code",
   "execution_count": 7,
   "metadata": {},
   "outputs": [],
   "source": [
    "data = pd.read_csv('/Users/kirstenk/Documents/She Codes/Project/master.csv')"
   ]
  },
  {
   "cell_type": "markdown",
   "metadata": {},
   "source": [
    "# Exploring data"
   ]
  },
  {
   "cell_type": "raw",
   "metadata": {},
   "source": [
    "Explore data, check if there are any gaps or missing values"
   ]
  },
  {
   "cell_type": "code",
   "execution_count": 8,
   "metadata": {},
   "outputs": [
    {
     "name": "stdout",
     "output_type": "stream",
     "text": [
      "   country  year     sex          age  suicides_no  population  \\\n",
      "0  Albania  1987    male  15-24 years           21      312900   \n",
      "1  Albania  1987    male  35-54 years           16      308000   \n",
      "2  Albania  1987  female  15-24 years           14      289700   \n",
      "3  Albania  1987    male    75+ years            1       21800   \n",
      "4  Albania  1987    male  25-34 years            9      274300   \n",
      "\n",
      "   suicides/100k pop country-year  HDI for year  gdp_for_year ($)   \\\n",
      "0               6.71  Albania1987           NaN      2,156,624,900   \n",
      "1               5.19  Albania1987           NaN      2,156,624,900   \n",
      "2               4.83  Albania1987           NaN      2,156,624,900   \n",
      "3               4.59  Albania1987           NaN      2,156,624,900   \n",
      "4               3.28  Albania1987           NaN      2,156,624,900   \n",
      "\n",
      "   gdp_per_capita ($)       generation  \n",
      "0                 796     Generation X  \n",
      "1                 796           Silent  \n",
      "2                 796     Generation X  \n",
      "3                 796  G.I. Generation  \n",
      "4                 796          Boomers  \n"
     ]
    }
   ],
   "source": [
    "print(data.head())"
   ]
  },
  {
   "cell_type": "code",
   "execution_count": 9,
   "metadata": {},
   "outputs": [
    {
     "name": "stdout",
     "output_type": "stream",
     "text": [
      "          country  year     sex          age  suicides_no  population  \\\n",
      "27815  Uzbekistan  2014  female  35-54 years          107     3620833   \n",
      "27816  Uzbekistan  2014  female    75+ years            9      348465   \n",
      "27817  Uzbekistan  2014    male   5-14 years           60     2762158   \n",
      "27818  Uzbekistan  2014  female   5-14 years           44     2631600   \n",
      "27819  Uzbekistan  2014  female  55-74 years           21     1438935   \n",
      "\n",
      "       suicides/100k pop    country-year  HDI for year  gdp_for_year ($)   \\\n",
      "27815               2.96  Uzbekistan2014         0.675     63,067,077,179   \n",
      "27816               2.58  Uzbekistan2014         0.675     63,067,077,179   \n",
      "27817               2.17  Uzbekistan2014         0.675     63,067,077,179   \n",
      "27818               1.67  Uzbekistan2014         0.675     63,067,077,179   \n",
      "27819               1.46  Uzbekistan2014         0.675     63,067,077,179   \n",
      "\n",
      "       gdp_per_capita ($)    generation  \n",
      "27815                2309  Generation X  \n",
      "27816                2309        Silent  \n",
      "27817                2309  Generation Z  \n",
      "27818                2309  Generation Z  \n",
      "27819                2309       Boomers  \n"
     ]
    }
   ],
   "source": [
    "print(data.tail())"
   ]
  },
  {
   "cell_type": "code",
   "execution_count": 10,
   "metadata": {},
   "outputs": [
    {
     "name": "stdout",
     "output_type": "stream",
     "text": [
      "<class 'pandas.core.frame.DataFrame'>\n",
      "RangeIndex: 27820 entries, 0 to 27819\n",
      "Data columns (total 12 columns):\n",
      "country               27820 non-null object\n",
      "year                  27820 non-null int64\n",
      "sex                   27820 non-null object\n",
      "age                   27820 non-null object\n",
      "suicides_no           27820 non-null int64\n",
      "population            27820 non-null int64\n",
      "suicides/100k pop     27820 non-null float64\n",
      "country-year          27820 non-null object\n",
      "HDI for year          8364 non-null float64\n",
      " gdp_for_year ($)     27820 non-null object\n",
      "gdp_per_capita ($)    27820 non-null int64\n",
      "generation            27820 non-null object\n",
      "dtypes: float64(2), int64(4), object(6)\n",
      "memory usage: 2.5+ MB\n"
     ]
    }
   ],
   "source": [
    "data.info()"
   ]
  },
  {
   "cell_type": "markdown",
   "metadata": {},
   "source": [
    "# HDI Column"
   ]
  },
  {
   "cell_type": "raw",
   "metadata": {},
   "source": [
    "HDI column has missing values\n",
    "The Human Development Index (HDI) is a statistic composite index of life expectancy, education, and per capita income indicators, which are used to rank countries into four tiers of human development.\n",
    "Was launched in 1990 that is why there is no data before 1990"
   ]
  },
  {
   "cell_type": "code",
   "execution_count": 11,
   "metadata": {},
   "outputs": [],
   "source": [
    "# From which year on is the HDI collected for our dataset?"
   ]
  },
  {
   "cell_type": "code",
   "execution_count": 12,
   "metadata": {},
   "outputs": [
    {
     "data": {
      "text/plain": [
       "year\n",
       "1985     444\n",
       "1986       0\n",
       "1987       0\n",
       "1988       0\n",
       "1989       0\n",
       "1990     600\n",
       "1991       0\n",
       "1992       0\n",
       "1993       0\n",
       "1994       0\n",
       "1995     756\n",
       "1996       0\n",
       "1997       0\n",
       "1998       0\n",
       "1999       0\n",
       "2000     912\n",
       "2001       0\n",
       "2002       0\n",
       "2003       0\n",
       "2004       0\n",
       "2005     912\n",
       "2006       0\n",
       "2007       0\n",
       "2008       0\n",
       "2009       0\n",
       "2010    1008\n",
       "2011     972\n",
       "2012     936\n",
       "2013     924\n",
       "2014     900\n",
       "2015       0\n",
       "2016       0\n",
       "Name: HDI for year, dtype: int64"
      ]
     },
     "execution_count": 12,
     "metadata": {},
     "output_type": "execute_result"
    }
   ],
   "source": [
    "hdi_year = data.groupby('year')['HDI for year'].count()\n",
    "hdi_year"
   ]
  },
  {
   "cell_type": "markdown",
   "metadata": {},
   "source": [
    "# Countries"
   ]
  },
  {
   "cell_type": "raw",
   "metadata": {},
   "source": [
    "How many countries have been investigated?"
   ]
  },
  {
   "cell_type": "code",
   "execution_count": 13,
   "metadata": {},
   "outputs": [],
   "source": [
    "country = data.country.unique()"
   ]
  },
  {
   "cell_type": "code",
   "execution_count": 14,
   "metadata": {},
   "outputs": [
    {
     "data": {
      "text/plain": [
       "array(['Albania', 'Antigua and Barbuda', 'Argentina', 'Armenia', 'Aruba',\n",
       "       'Australia', 'Austria', 'Azerbaijan', 'Bahamas', 'Bahrain',\n",
       "       'Barbados', 'Belarus', 'Belgium', 'Belize',\n",
       "       'Bosnia and Herzegovina', 'Brazil', 'Bulgaria', 'Cabo Verde',\n",
       "       'Canada', 'Chile', 'Colombia', 'Costa Rica', 'Croatia', 'Cuba',\n",
       "       'Cyprus', 'Czech Republic', 'Denmark', 'Dominica', 'Ecuador',\n",
       "       'El Salvador', 'Estonia', 'Fiji', 'Finland', 'France', 'Georgia',\n",
       "       'Germany', 'Greece', 'Grenada', 'Guatemala', 'Guyana', 'Hungary',\n",
       "       'Iceland', 'Ireland', 'Israel', 'Italy', 'Jamaica', 'Japan',\n",
       "       'Kazakhstan', 'Kiribati', 'Kuwait', 'Kyrgyzstan', 'Latvia',\n",
       "       'Lithuania', 'Luxembourg', 'Macau', 'Maldives', 'Malta',\n",
       "       'Mauritius', 'Mexico', 'Mongolia', 'Montenegro', 'Netherlands',\n",
       "       'New Zealand', 'Nicaragua', 'Norway', 'Oman', 'Panama', 'Paraguay',\n",
       "       'Philippines', 'Poland', 'Portugal', 'Puerto Rico', 'Qatar',\n",
       "       'Republic of Korea', 'Romania', 'Russian Federation',\n",
       "       'Saint Kitts and Nevis', 'Saint Lucia',\n",
       "       'Saint Vincent and Grenadines', 'San Marino', 'Serbia',\n",
       "       'Seychelles', 'Singapore', 'Slovakia', 'Slovenia', 'South Africa',\n",
       "       'Spain', 'Sri Lanka', 'Suriname', 'Sweden', 'Switzerland',\n",
       "       'Thailand', 'Trinidad and Tobago', 'Turkey', 'Turkmenistan',\n",
       "       'Ukraine', 'United Arab Emirates', 'United Kingdom',\n",
       "       'United States', 'Uruguay', 'Uzbekistan'], dtype=object)"
      ]
     },
     "execution_count": 14,
     "metadata": {},
     "output_type": "execute_result"
    }
   ],
   "source": [
    "country"
   ]
  },
  {
   "cell_type": "code",
   "execution_count": 15,
   "metadata": {},
   "outputs": [
    {
     "data": {
      "text/plain": [
       "101"
      ]
     },
     "execution_count": 15,
     "metadata": {},
     "output_type": "execute_result"
    }
   ],
   "source": [
    "len(country)"
   ]
  },
  {
   "cell_type": "markdown",
   "metadata": {},
   "source": [
    "# Generations"
   ]
  },
  {
   "cell_type": "raw",
   "metadata": {},
   "source": [
    "Which and how many generation groups are there?"
   ]
  },
  {
   "cell_type": "code",
   "execution_count": 16,
   "metadata": {},
   "outputs": [],
   "source": [
    "generation = data.generation.unique()"
   ]
  },
  {
   "cell_type": "code",
   "execution_count": 17,
   "metadata": {},
   "outputs": [
    {
     "data": {
      "text/plain": [
       "array(['Generation X', 'Silent', 'G.I. Generation', 'Boomers',\n",
       "       'Millenials', 'Generation Z'], dtype=object)"
      ]
     },
     "execution_count": 17,
     "metadata": {},
     "output_type": "execute_result"
    }
   ],
   "source": [
    "generation"
   ]
  },
  {
   "cell_type": "markdown",
   "metadata": {},
   "source": [
    "# Age Groups"
   ]
  },
  {
   "cell_type": "raw",
   "metadata": {},
   "source": [
    "Which and how many age groups are in the data?"
   ]
  },
  {
   "cell_type": "code",
   "execution_count": 18,
   "metadata": {},
   "outputs": [
    {
     "data": {
      "text/plain": [
       "array(['15-24 years', '25-34 years', '35-54 years', '5-14 years',\n",
       "       '55-74 years', '75+ years'], dtype=object)"
      ]
     },
     "execution_count": 18,
     "metadata": {},
     "output_type": "execute_result"
    }
   ],
   "source": [
    "age = data.age.unique()\n",
    "age.tolist()\n",
    "age.sort()\n",
    "age"
   ]
  },
  {
   "cell_type": "code",
   "execution_count": 19,
   "metadata": {},
   "outputs": [
    {
     "data": {
      "text/plain": [
       "6"
      ]
     },
     "execution_count": 19,
     "metadata": {},
     "output_type": "execute_result"
    }
   ],
   "source": [
    "len(age)"
   ]
  },
  {
   "cell_type": "markdown",
   "metadata": {},
   "source": [
    "## Suicide numbers by age groups"
   ]
  },
  {
   "cell_type": "code",
   "execution_count": 20,
   "metadata": {},
   "outputs": [
    {
     "data": {
      "text/html": [
       "<div>\n",
       "<style scoped>\n",
       "    .dataframe tbody tr th:only-of-type {\n",
       "        vertical-align: middle;\n",
       "    }\n",
       "\n",
       "    .dataframe tbody tr th {\n",
       "        vertical-align: top;\n",
       "    }\n",
       "\n",
       "    .dataframe thead th {\n",
       "        text-align: right;\n",
       "    }\n",
       "</style>\n",
       "<table border=\"1\" class=\"dataframe\">\n",
       "  <thead>\n",
       "    <tr style=\"text-align: right;\">\n",
       "      <th></th>\n",
       "      <th>age</th>\n",
       "      <th>suicides_no</th>\n",
       "      <th>age group</th>\n",
       "    </tr>\n",
       "  </thead>\n",
       "  <tbody>\n",
       "    <tr>\n",
       "      <th>3</th>\n",
       "      <td>5-14 years</td>\n",
       "      <td>11.337093</td>\n",
       "      <td>1</td>\n",
       "    </tr>\n",
       "    <tr>\n",
       "      <th>0</th>\n",
       "      <td>15-24 years</td>\n",
       "      <td>174.179664</td>\n",
       "      <td>2</td>\n",
       "    </tr>\n",
       "    <tr>\n",
       "      <th>1</th>\n",
       "      <td>25-34 years</td>\n",
       "      <td>242.118053</td>\n",
       "      <td>3</td>\n",
       "    </tr>\n",
       "    <tr>\n",
       "      <th>2</th>\n",
       "      <td>35-54 years</td>\n",
       "      <td>528.250969</td>\n",
       "      <td>4</td>\n",
       "    </tr>\n",
       "    <tr>\n",
       "      <th>4</th>\n",
       "      <td>55-74 years</td>\n",
       "      <td>357.269065</td>\n",
       "      <td>5</td>\n",
       "    </tr>\n",
       "    <tr>\n",
       "      <th>5</th>\n",
       "      <td>75+ years</td>\n",
       "      <td>140.697544</td>\n",
       "      <td>6</td>\n",
       "    </tr>\n",
       "  </tbody>\n",
       "</table>\n",
       "</div>"
      ],
      "text/plain": [
       "           age  suicides_no age group\n",
       "3   5-14 years    11.337093         1\n",
       "0  15-24 years   174.179664         2\n",
       "1  25-34 years   242.118053         3\n",
       "2  35-54 years   528.250969         4\n",
       "4  55-74 years   357.269065         5\n",
       "5    75+ years   140.697544         6"
      ]
     },
     "execution_count": 20,
     "metadata": {},
     "output_type": "execute_result"
    }
   ],
   "source": [
    "suicide_byage = data.groupby('age')['suicides_no'].mean()\n",
    "suicide_byage.to_frame()\n",
    "suicide_byage = suicide_byage.reset_index()\n",
    "\n",
    "\n",
    "equiv = {'5-14 years':'1', '15-24 years':'2', '25-34 years': '3', '35-54 years': '4', '55-74 years': '5',\n",
    "                  '75+ years': '6'}\n",
    "suicide_byage['age group'] = suicide_byage['age'].map(equiv)\n",
    "suicide_byage = suicide_byage.sort_values('age group')\n",
    "suicide_byage"
   ]
  },
  {
   "cell_type": "code",
   "execution_count": 21,
   "metadata": {},
   "outputs": [
    {
     "data": {
      "text/plain": [
       "Text(0, 0.5, 'Suicide No')"
      ]
     },
     "execution_count": 21,
     "metadata": {},
     "output_type": "execute_result"
    },
    {
     "data": {
      "image/png": "[encoded data removed]",
      "text/plain": [
       "<Figure size 864x576 with 1 Axes>"
      ]
     },
     "metadata": {},
     "output_type": "display_data"
    }
   ],
   "source": [
    "plt.figure(figsize=(12,8))\n",
    "sns.barplot(x='age', y='suicides_no', data=suicide_byage)\n",
    "plt.title(\"Total Suicide by Age group\")\n",
    "plt.xlabel(\"Age\")\n",
    "plt.ylabel(\"Suicide No\")"
   ]
  },
  {
   "cell_type": "markdown",
   "metadata": {},
   "source": [
    "## Suicide rate by age"
   ]
  },
  {
   "cell_type": "code",
   "execution_count": 23,
   "metadata": {},
   "outputs": [
    {
     "data": {
      "text/html": [
       "<div>\n",
       "<style scoped>\n",
       "    .dataframe tbody tr th:only-of-type {\n",
       "        vertical-align: middle;\n",
       "    }\n",
       "\n",
       "    .dataframe tbody tr th {\n",
       "        vertical-align: top;\n",
       "    }\n",
       "\n",
       "    .dataframe thead th {\n",
       "        text-align: right;\n",
       "    }\n",
       "</style>\n",
       "<table border=\"1\" class=\"dataframe\">\n",
       "  <thead>\n",
       "    <tr style=\"text-align: right;\">\n",
       "      <th></th>\n",
       "      <th>age</th>\n",
       "      <th>suicides/100k pop</th>\n",
       "      <th>age group</th>\n",
       "    </tr>\n",
       "  </thead>\n",
       "  <tbody>\n",
       "    <tr>\n",
       "      <th>3</th>\n",
       "      <td>5-14 years</td>\n",
       "      <td>0.620041</td>\n",
       "      <td>05-14 years</td>\n",
       "    </tr>\n",
       "    <tr>\n",
       "      <th>0</th>\n",
       "      <td>15-24 years</td>\n",
       "      <td>8.947154</td>\n",
       "      <td>15-24 years</td>\n",
       "    </tr>\n",
       "    <tr>\n",
       "      <th>1</th>\n",
       "      <td>25-34 years</td>\n",
       "      <td>12.186885</td>\n",
       "      <td>25-34 years</td>\n",
       "    </tr>\n",
       "    <tr>\n",
       "      <th>2</th>\n",
       "      <td>35-54 years</td>\n",
       "      <td>14.947441</td>\n",
       "      <td>35-54 years</td>\n",
       "    </tr>\n",
       "    <tr>\n",
       "      <th>4</th>\n",
       "      <td>55-74 years</td>\n",
       "      <td>16.155579</td>\n",
       "      <td>55-74 years</td>\n",
       "    </tr>\n",
       "    <tr>\n",
       "      <th>5</th>\n",
       "      <td>75+ years</td>\n",
       "      <td>23.955409</td>\n",
       "      <td>75+ years</td>\n",
       "    </tr>\n",
       "  </tbody>\n",
       "</table>\n",
       "</div>"
      ],
      "text/plain": [
       "           age  suicides/100k pop    age group\n",
       "3   5-14 years           0.620041  05-14 years\n",
       "0  15-24 years           8.947154  15-24 years\n",
       "1  25-34 years          12.186885  25-34 years\n",
       "2  35-54 years          14.947441  35-54 years\n",
       "4  55-74 years          16.155579  55-74 years\n",
       "5    75+ years          23.955409    75+ years"
      ]
     },
     "execution_count": 23,
     "metadata": {},
     "output_type": "execute_result"
    }
   ],
   "source": [
    "srate_byage = data.groupby('age')['suicides/100k pop'].mean()\n",
    "srate_byage.to_frame()\n",
    "srate_byage = srate_byage.reset_index()\n",
    "\n",
    "equiv = {'5-14 years':'05-14 years', '15-24 years':'15-24 years', '25-34 years': '25-34 years', '35-54 years': '35-54 years', '55-74 years': '55-74 years',\n",
    "                  '75+ years': '75+ years'}\n",
    "srate_byage['age group'] = srate_byage['age'].map(equiv)\n",
    "srate_byage = srate_byage.sort_values('age group')\n",
    "srate_byage"
   ]
  },
  {
   "cell_type": "markdown",
   "metadata": {},
   "source": [
    "### Plot Suicide Rate by Age"
   ]
  },
  {
   "cell_type": "code",
   "execution_count": 117,
   "metadata": {},
   "outputs": [
    {
     "data": {
      "text/plain": [
       "Text(0, 0.5, 'Suicides/100k Pop')"
      ]
     },
     "execution_count": 117,
     "metadata": {},
     "output_type": "execute_result"
    },
    {
     "data": {
      "image/png": "[encoded data removed]",
      "text/plain": [
       "<Figure size 864x576 with 1 Axes>"
      ]
     },
     "metadata": {},
     "output_type": "display_data"
    }
   ],
   "source": [
    "#srate_byage = data_byage.sort_values(axis=0)\n",
    "plt.figure(figsize=(12,8))\n",
    "sns.barplot(x='age group', y='suicides/100k pop', data=srate_byage)\n",
    "plt.title(\"Suicide Rate by Age\")\n",
    "plt.xlabel(\"Age\")\n",
    "plt.ylabel(\"Suicides/100k Pop\")"
   ]
  },
  {
   "cell_type": "raw",
   "metadata": {},
   "source": [
    "Findings:\n",
    "Suicide number is lower the older people are, but the suicide rate gets higher. People in the age group 75+ are less of the population so the absolute number of suicides of people of the age 75+ is lower than the second lowest compared to the other age groups. But relative to their representation in society they people of the 75+ are more likely to commit suicide that any other age group."
   ]
  },
  {
   "cell_type": "markdown",
   "metadata": {},
   "source": [
    "# Suicide rate by year"
   ]
  },
  {
   "cell_type": "raw",
   "metadata": {},
   "source": [
    "Are there certain years where the suicide rate is higher or lower?"
   ]
  },
  {
   "cell_type": "code",
   "execution_count": 26,
   "metadata": {},
   "outputs": [
    {
     "data": {
      "text/plain": [
       "year\n",
       "1985     6811.89\n",
       "1986     6579.84\n",
       "1987     7545.45\n",
       "1988     7473.13\n",
       "1989     8036.54\n",
       "1990     9878.75\n",
       "1991    10321.06\n",
       "1992    10528.88\n",
       "1993    10790.29\n",
       "1994    11483.79\n",
       "1995    14660.26\n",
       "1996    14142.21\n",
       "1997    13817.83\n",
       "1998    14150.72\n",
       "1999    14473.91\n",
       "2000    14387.45\n",
       "2001    14276.21\n",
       "2002    14227.72\n",
       "2003    13627.58\n",
       "2004    12581.80\n",
       "2005    12164.99\n",
       "2006    12166.01\n",
       "2007    12410.15\n",
       "2008    12145.84\n",
       "2009    12176.04\n",
       "2010    11843.99\n",
       "2011    11367.84\n",
       "2012    11101.91\n",
       "2013    10663.64\n",
       "2014    10306.73\n",
       "2015     8253.99\n",
       "2016     2147.39\n",
       "Name: suicides/100k pop, dtype: float64"
      ]
     },
     "execution_count": 26,
     "metadata": {},
     "output_type": "execute_result"
    }
   ],
   "source": [
    "data_byyear = data.groupby('year')['suicides/100k pop'].sum()\n",
    "data_byyear"
   ]
  },
  {
   "cell_type": "code",
   "execution_count": 27,
   "metadata": {},
   "outputs": [],
   "source": [
    "# Print graph: 'Suicide Rate by Year'"
   ]
  },
  {
   "cell_type": "code",
   "execution_count": 28,
   "metadata": {},
   "outputs": [
    {
     "data": {
      "text/plain": [
       "(array([1980., 1985., 1990., 1995., 2000., 2005., 2010., 2015., 2020.]),\n",
       " <a list of 9 Text xticklabel objects>)"
      ]
     },
     "execution_count": 28,
     "metadata": {},
     "output_type": "execute_result"
    },
    {
     "data": {
      "image/png": "[encoded data removed]",
      "text/plain": [
       "<Figure size 864x576 with 1 Axes>"
      ]
     },
     "metadata": {},
     "output_type": "display_data"
    }
   ],
   "source": [
    "plt.figure(figsize=(12,8))\n",
    "_ = plt.plot(data_byyear)\n",
    "plt.title('Suicide Rate by Year')\n",
    "plt.xlabel('Year')\n",
    "plt.ylabel('suicides/100k')\n",
    "plt.xticks(rotation=45)"
   ]
  },
  {
   "cell_type": "raw",
   "metadata": {},
   "source": [
    "Something seems wrong with the data of 2015 and 2016. Incomplete dataset?\n",
    "Also starts at 1985, data frame starts with Albania 1985 and ends with Uzbekistan 2014. So probably data is not complete for all years and countries."
   ]
  },
  {
   "cell_type": "markdown",
   "metadata": {},
   "source": [
    "### First verifying min and max value of year column to confirm for which years data has been collected"
   ]
  },
  {
   "cell_type": "code",
   "execution_count": 29,
   "metadata": {},
   "outputs": [
    {
     "data": {
      "text/plain": [
       "1985"
      ]
     },
     "execution_count": 29,
     "metadata": {},
     "output_type": "execute_result"
    }
   ],
   "source": [
    "data['year'].loc[data['year'].idxmin()]"
   ]
  },
  {
   "cell_type": "code",
   "execution_count": 30,
   "metadata": {},
   "outputs": [
    {
     "data": {
      "text/plain": [
       "2016"
      ]
     },
     "execution_count": 30,
     "metadata": {},
     "output_type": "execute_result"
    }
   ],
   "source": [
    "data['year'].loc[data['year'].idxmax()]"
   ]
  },
  {
   "cell_type": "markdown",
   "metadata": {},
   "source": [
    "### For how many countries has data been collected each year?"
   ]
  },
  {
   "cell_type": "code",
   "execution_count": 31,
   "metadata": {},
   "outputs": [],
   "source": [
    "#len(data[(data['year'] == 2015)].country.unique())"
   ]
  },
  {
   "cell_type": "code",
   "execution_count": 32,
   "metadata": {},
   "outputs": [
    {
     "data": {
      "text/plain": [
       "numpy.int64"
      ]
     },
     "execution_count": 32,
     "metadata": {},
     "output_type": "execute_result"
    }
   ],
   "source": [
    "years = data.year.unique()\n",
    "type(years[0])"
   ]
  },
  {
   "cell_type": "code",
   "execution_count": 33,
   "metadata": {},
   "outputs": [],
   "source": [
    "#years = [data.year.unique()]\n",
    "#type(years[0])"
   ]
  },
  {
   "cell_type": "code",
   "execution_count": 34,
   "metadata": {},
   "outputs": [],
   "source": [
    "\n",
    "df_length = dict()\n",
    "for y in years:\n",
    "    unique_year = data[data['year']== y].country.unique()\n",
    "    df_length[y] = len(unique_year)\n"
   ]
  },
  {
   "cell_type": "code",
   "execution_count": 35,
   "metadata": {},
   "outputs": [
    {
     "data": {
      "text/html": [
       "<div>\n",
       "<style scoped>\n",
       "    .dataframe tbody tr th:only-of-type {\n",
       "        vertical-align: middle;\n",
       "    }\n",
       "\n",
       "    .dataframe tbody tr th {\n",
       "        vertical-align: top;\n",
       "    }\n",
       "\n",
       "    .dataframe thead th {\n",
       "        text-align: right;\n",
       "    }\n",
       "</style>\n",
       "<table border=\"1\" class=\"dataframe\">\n",
       "  <thead>\n",
       "    <tr style=\"text-align: right;\">\n",
       "      <th></th>\n",
       "      <th>0</th>\n",
       "    </tr>\n",
       "  </thead>\n",
       "  <tbody>\n",
       "    <tr>\n",
       "      <th>1985</th>\n",
       "      <td>48</td>\n",
       "    </tr>\n",
       "    <tr>\n",
       "      <th>1986</th>\n",
       "      <td>48</td>\n",
       "    </tr>\n",
       "    <tr>\n",
       "      <th>1987</th>\n",
       "      <td>54</td>\n",
       "    </tr>\n",
       "    <tr>\n",
       "      <th>1988</th>\n",
       "      <td>49</td>\n",
       "    </tr>\n",
       "    <tr>\n",
       "      <th>1989</th>\n",
       "      <td>52</td>\n",
       "    </tr>\n",
       "    <tr>\n",
       "      <th>1990</th>\n",
       "      <td>64</td>\n",
       "    </tr>\n",
       "    <tr>\n",
       "      <th>1991</th>\n",
       "      <td>64</td>\n",
       "    </tr>\n",
       "    <tr>\n",
       "      <th>1992</th>\n",
       "      <td>65</td>\n",
       "    </tr>\n",
       "    <tr>\n",
       "      <th>1993</th>\n",
       "      <td>65</td>\n",
       "    </tr>\n",
       "    <tr>\n",
       "      <th>1994</th>\n",
       "      <td>68</td>\n",
       "    </tr>\n",
       "    <tr>\n",
       "      <th>1995</th>\n",
       "      <td>78</td>\n",
       "    </tr>\n",
       "    <tr>\n",
       "      <th>1996</th>\n",
       "      <td>77</td>\n",
       "    </tr>\n",
       "    <tr>\n",
       "      <th>1997</th>\n",
       "      <td>77</td>\n",
       "    </tr>\n",
       "    <tr>\n",
       "      <th>1998</th>\n",
       "      <td>79</td>\n",
       "    </tr>\n",
       "    <tr>\n",
       "      <th>1999</th>\n",
       "      <td>83</td>\n",
       "    </tr>\n",
       "    <tr>\n",
       "      <th>2000</th>\n",
       "      <td>86</td>\n",
       "    </tr>\n",
       "    <tr>\n",
       "      <th>2001</th>\n",
       "      <td>88</td>\n",
       "    </tr>\n",
       "    <tr>\n",
       "      <th>2002</th>\n",
       "      <td>86</td>\n",
       "    </tr>\n",
       "    <tr>\n",
       "      <th>2003</th>\n",
       "      <td>86</td>\n",
       "    </tr>\n",
       "    <tr>\n",
       "      <th>2004</th>\n",
       "      <td>84</td>\n",
       "    </tr>\n",
       "    <tr>\n",
       "      <th>2005</th>\n",
       "      <td>84</td>\n",
       "    </tr>\n",
       "    <tr>\n",
       "      <th>2006</th>\n",
       "      <td>85</td>\n",
       "    </tr>\n",
       "    <tr>\n",
       "      <th>2007</th>\n",
       "      <td>86</td>\n",
       "    </tr>\n",
       "    <tr>\n",
       "      <th>2008</th>\n",
       "      <td>85</td>\n",
       "    </tr>\n",
       "    <tr>\n",
       "      <th>2009</th>\n",
       "      <td>89</td>\n",
       "    </tr>\n",
       "    <tr>\n",
       "      <th>2010</th>\n",
       "      <td>88</td>\n",
       "    </tr>\n",
       "    <tr>\n",
       "      <th>2011</th>\n",
       "      <td>86</td>\n",
       "    </tr>\n",
       "    <tr>\n",
       "      <th>2012</th>\n",
       "      <td>81</td>\n",
       "    </tr>\n",
       "    <tr>\n",
       "      <th>2013</th>\n",
       "      <td>80</td>\n",
       "    </tr>\n",
       "    <tr>\n",
       "      <th>2014</th>\n",
       "      <td>78</td>\n",
       "    </tr>\n",
       "    <tr>\n",
       "      <th>2015</th>\n",
       "      <td>62</td>\n",
       "    </tr>\n",
       "    <tr>\n",
       "      <th>2016</th>\n",
       "      <td>16</td>\n",
       "    </tr>\n",
       "  </tbody>\n",
       "</table>\n",
       "</div>"
      ],
      "text/plain": [
       "       0\n",
       "1985  48\n",
       "1986  48\n",
       "1987  54\n",
       "1988  49\n",
       "1989  52\n",
       "1990  64\n",
       "1991  64\n",
       "1992  65\n",
       "1993  65\n",
       "1994  68\n",
       "1995  78\n",
       "1996  77\n",
       "1997  77\n",
       "1998  79\n",
       "1999  83\n",
       "2000  86\n",
       "2001  88\n",
       "2002  86\n",
       "2003  86\n",
       "2004  84\n",
       "2005  84\n",
       "2006  85\n",
       "2007  86\n",
       "2008  85\n",
       "2009  89\n",
       "2010  88\n",
       "2011  86\n",
       "2012  81\n",
       "2013  80\n",
       "2014  78\n",
       "2015  62\n",
       "2016  16"
      ]
     },
     "execution_count": 35,
     "metadata": {},
     "output_type": "execute_result"
    }
   ],
   "source": [
    "years_country = pd.DataFrame(data=df_length, index=[0]).T\n",
    "years_country.sort_index(inplace=True)\n",
    "years_country\n",
    "# years_country.reset_index().sort_values('index')"
   ]
  },
  {
   "cell_type": "code",
   "execution_count": 36,
   "metadata": {},
   "outputs": [
    {
     "data": {
      "text/plain": [
       "Text(0, 0.5, 'Number of Countries')"
      ]
     },
     "execution_count": 36,
     "metadata": {},
     "output_type": "execute_result"
    },
    {
     "data": {
      "image/png": "[encoded data removed]",
      "text/plain": [
       "<Figure size 864x576 with 1 Axes>"
      ]
     },
     "metadata": {},
     "output_type": "display_data"
    }
   ],
   "source": [
    "plt.figure(figsize=(12,8))\n",
    "_ = plt.plot(years_country)\n",
    "plt.title(\"Countries represented in the data each year\")\n",
    "plt.xlabel(\"Years\")\n",
    "plt.ylabel(\"Number of Countries\")"
   ]
  },
  {
   "cell_type": "raw",
   "metadata": {},
   "source": [
    "Between 1990 and 2014 the given data set is the most complete as it represents the highest amounts of unique countries.\n",
    "The figure below shows that differences in the suicide rates correspond with the differences in the amount of countries investigated. That is why it makes sense to exclude the years with a low number of countries in the data."
   ]
  },
  {
   "cell_type": "code",
   "execution_count": 38,
   "metadata": {},
   "outputs": [
    {
     "data": {
      "text/plain": [
       "Text(0.5, 0.98, 'Comparison between Suicide Rate per Year and Amount of Countries Investigated per Year')"
      ]
     },
     "execution_count": 38,
     "metadata": {},
     "output_type": "execute_result"
    },
    {
     "data": {
      "image/png": "[encoded data removed]",
      "text/plain": [
       "<Figure size 1296x576 with 2 Axes>"
      ]
     },
     "metadata": {},
     "output_type": "display_data"
    }
   ],
   "source": [
    "fig, axs = plt.subplots(1, 2, figsize=(18, 8), sharex=True)\n",
    "axs[0].plot(data_byyear)\n",
    "axs[1].plot(years_country)\n",
    "plt.title('Mean Suicide Rate by Year')\n",
    "plt.title('Number of Countries Investigated per Year')\n",
    "plt.xlabel('Year')\n",
    "plt.ylabel('suicides/100k')\n",
    "plt.xticks(rotation=45)\n",
    "fig.suptitle('Comparison between Suicide Rate per Year and Amount of Countries Investigated per Year')\n"
   ]
  },
  {
   "cell_type": "markdown",
   "metadata": {},
   "source": [
    "### Checking which countries are represented in how many years (total: 32 years)"
   ]
  },
  {
   "cell_type": "code",
   "execution_count": 39,
   "metadata": {},
   "outputs": [
    {
     "data": {
      "text/html": [
       "<div>\n",
       "<style scoped>\n",
       "    .dataframe tbody tr th:only-of-type {\n",
       "        vertical-align: middle;\n",
       "    }\n",
       "\n",
       "    .dataframe tbody tr th {\n",
       "        vertical-align: top;\n",
       "    }\n",
       "\n",
       "    .dataframe thead th {\n",
       "        text-align: right;\n",
       "    }\n",
       "</style>\n",
       "<table border=\"1\" class=\"dataframe\">\n",
       "  <thead>\n",
       "    <tr style=\"text-align: right;\">\n",
       "      <th></th>\n",
       "      <th>1</th>\n",
       "    </tr>\n",
       "  </thead>\n",
       "  <tbody>\n",
       "    <tr>\n",
       "      <th>Albania</th>\n",
       "      <td>22</td>\n",
       "    </tr>\n",
       "    <tr>\n",
       "      <th>Antigua and Barbuda</th>\n",
       "      <td>27</td>\n",
       "    </tr>\n",
       "    <tr>\n",
       "      <th>Argentina</th>\n",
       "      <td>31</td>\n",
       "    </tr>\n",
       "    <tr>\n",
       "      <th>Armenia</th>\n",
       "      <td>25</td>\n",
       "    </tr>\n",
       "    <tr>\n",
       "      <th>Aruba</th>\n",
       "      <td>14</td>\n",
       "    </tr>\n",
       "    <tr>\n",
       "      <th>Australia</th>\n",
       "      <td>30</td>\n",
       "    </tr>\n",
       "    <tr>\n",
       "      <th>Austria</th>\n",
       "      <td>32</td>\n",
       "    </tr>\n",
       "    <tr>\n",
       "      <th>Azerbaijan</th>\n",
       "      <td>16</td>\n",
       "    </tr>\n",
       "    <tr>\n",
       "      <th>Bahamas</th>\n",
       "      <td>23</td>\n",
       "    </tr>\n",
       "    <tr>\n",
       "      <th>Bahrain</th>\n",
       "      <td>21</td>\n",
       "    </tr>\n",
       "    <tr>\n",
       "      <th>Barbados</th>\n",
       "      <td>25</td>\n",
       "    </tr>\n",
       "    <tr>\n",
       "      <th>Belarus</th>\n",
       "      <td>21</td>\n",
       "    </tr>\n",
       "    <tr>\n",
       "      <th>Belgium</th>\n",
       "      <td>31</td>\n",
       "    </tr>\n",
       "    <tr>\n",
       "      <th>Belize</th>\n",
       "      <td>28</td>\n",
       "    </tr>\n",
       "    <tr>\n",
       "      <th>Bosnia and Herzegovina</th>\n",
       "      <td>2</td>\n",
       "    </tr>\n",
       "    <tr>\n",
       "      <th>Brazil</th>\n",
       "      <td>31</td>\n",
       "    </tr>\n",
       "    <tr>\n",
       "      <th>Bulgaria</th>\n",
       "      <td>30</td>\n",
       "    </tr>\n",
       "    <tr>\n",
       "      <th>Cabo Verde</th>\n",
       "      <td>1</td>\n",
       "    </tr>\n",
       "    <tr>\n",
       "      <th>Canada</th>\n",
       "      <td>29</td>\n",
       "    </tr>\n",
       "    <tr>\n",
       "      <th>Chile</th>\n",
       "      <td>31</td>\n",
       "    </tr>\n",
       "    <tr>\n",
       "      <th>Colombia</th>\n",
       "      <td>31</td>\n",
       "    </tr>\n",
       "    <tr>\n",
       "      <th>Costa Rica</th>\n",
       "      <td>30</td>\n",
       "    </tr>\n",
       "    <tr>\n",
       "      <th>Croatia</th>\n",
       "      <td>22</td>\n",
       "    </tr>\n",
       "    <tr>\n",
       "      <th>Cuba</th>\n",
       "      <td>24</td>\n",
       "    </tr>\n",
       "    <tr>\n",
       "      <th>Cyprus</th>\n",
       "      <td>15</td>\n",
       "    </tr>\n",
       "    <tr>\n",
       "      <th>Czech Republic</th>\n",
       "      <td>27</td>\n",
       "    </tr>\n",
       "    <tr>\n",
       "      <th>Denmark</th>\n",
       "      <td>22</td>\n",
       "    </tr>\n",
       "    <tr>\n",
       "      <th>Dominica</th>\n",
       "      <td>1</td>\n",
       "    </tr>\n",
       "    <tr>\n",
       "      <th>Ecuador</th>\n",
       "      <td>31</td>\n",
       "    </tr>\n",
       "    <tr>\n",
       "      <th>El Salvador</th>\n",
       "      <td>24</td>\n",
       "    </tr>\n",
       "    <tr>\n",
       "      <th>...</th>\n",
       "      <td>...</td>\n",
       "    </tr>\n",
       "    <tr>\n",
       "      <th>Puerto Rico</th>\n",
       "      <td>31</td>\n",
       "    </tr>\n",
       "    <tr>\n",
       "      <th>Qatar</th>\n",
       "      <td>15</td>\n",
       "    </tr>\n",
       "    <tr>\n",
       "      <th>Republic of Korea</th>\n",
       "      <td>31</td>\n",
       "    </tr>\n",
       "    <tr>\n",
       "      <th>Romania</th>\n",
       "      <td>28</td>\n",
       "    </tr>\n",
       "    <tr>\n",
       "      <th>Russian Federation</th>\n",
       "      <td>27</td>\n",
       "    </tr>\n",
       "    <tr>\n",
       "      <th>Saint Kitts and Nevis</th>\n",
       "      <td>3</td>\n",
       "    </tr>\n",
       "    <tr>\n",
       "      <th>Saint Lucia</th>\n",
       "      <td>28</td>\n",
       "    </tr>\n",
       "    <tr>\n",
       "      <th>Saint Vincent and Grenadines</th>\n",
       "      <td>25</td>\n",
       "    </tr>\n",
       "    <tr>\n",
       "      <th>San Marino</th>\n",
       "      <td>3</td>\n",
       "    </tr>\n",
       "    <tr>\n",
       "      <th>Serbia</th>\n",
       "      <td>18</td>\n",
       "    </tr>\n",
       "    <tr>\n",
       "      <th>Seychelles</th>\n",
       "      <td>18</td>\n",
       "    </tr>\n",
       "    <tr>\n",
       "      <th>Singapore</th>\n",
       "      <td>31</td>\n",
       "    </tr>\n",
       "    <tr>\n",
       "      <th>Slovakia</th>\n",
       "      <td>22</td>\n",
       "    </tr>\n",
       "    <tr>\n",
       "      <th>Slovenia</th>\n",
       "      <td>21</td>\n",
       "    </tr>\n",
       "    <tr>\n",
       "      <th>South Africa</th>\n",
       "      <td>20</td>\n",
       "    </tr>\n",
       "    <tr>\n",
       "      <th>Spain</th>\n",
       "      <td>31</td>\n",
       "    </tr>\n",
       "    <tr>\n",
       "      <th>Sri Lanka</th>\n",
       "      <td>11</td>\n",
       "    </tr>\n",
       "    <tr>\n",
       "      <th>Suriname</th>\n",
       "      <td>28</td>\n",
       "    </tr>\n",
       "    <tr>\n",
       "      <th>Sweden</th>\n",
       "      <td>30</td>\n",
       "    </tr>\n",
       "    <tr>\n",
       "      <th>Switzerland</th>\n",
       "      <td>21</td>\n",
       "    </tr>\n",
       "    <tr>\n",
       "      <th>Thailand</th>\n",
       "      <td>28</td>\n",
       "    </tr>\n",
       "    <tr>\n",
       "      <th>Trinidad and Tobago</th>\n",
       "      <td>27</td>\n",
       "    </tr>\n",
       "    <tr>\n",
       "      <th>Turkey</th>\n",
       "      <td>7</td>\n",
       "    </tr>\n",
       "    <tr>\n",
       "      <th>Turkmenistan</th>\n",
       "      <td>29</td>\n",
       "    </tr>\n",
       "    <tr>\n",
       "      <th>Ukraine</th>\n",
       "      <td>28</td>\n",
       "    </tr>\n",
       "    <tr>\n",
       "      <th>United Arab Emirates</th>\n",
       "      <td>6</td>\n",
       "    </tr>\n",
       "    <tr>\n",
       "      <th>United Kingdom</th>\n",
       "      <td>31</td>\n",
       "    </tr>\n",
       "    <tr>\n",
       "      <th>United States</th>\n",
       "      <td>31</td>\n",
       "    </tr>\n",
       "    <tr>\n",
       "      <th>Uruguay</th>\n",
       "      <td>28</td>\n",
       "    </tr>\n",
       "    <tr>\n",
       "      <th>Uzbekistan</th>\n",
       "      <td>22</td>\n",
       "    </tr>\n",
       "  </tbody>\n",
       "</table>\n",
       "<p>101 rows × 1 columns</p>\n",
       "</div>"
      ],
      "text/plain": [
       "                               1\n",
       "Albania                       22\n",
       "Antigua and Barbuda           27\n",
       "Argentina                     31\n",
       "Armenia                       25\n",
       "Aruba                         14\n",
       "Australia                     30\n",
       "Austria                       32\n",
       "Azerbaijan                    16\n",
       "Bahamas                       23\n",
       "Bahrain                       21\n",
       "Barbados                      25\n",
       "Belarus                       21\n",
       "Belgium                       31\n",
       "Belize                        28\n",
       "Bosnia and Herzegovina         2\n",
       "Brazil                        31\n",
       "Bulgaria                      30\n",
       "Cabo Verde                     1\n",
       "Canada                        29\n",
       "Chile                         31\n",
       "Colombia                      31\n",
       "Costa Rica                    30\n",
       "Croatia                       22\n",
       "Cuba                          24\n",
       "Cyprus                        15\n",
       "Czech Republic                27\n",
       "Denmark                       22\n",
       "Dominica                       1\n",
       "Ecuador                       31\n",
       "El Salvador                   24\n",
       "...                           ..\n",
       "Puerto Rico                   31\n",
       "Qatar                         15\n",
       "Republic of Korea             31\n",
       "Romania                       28\n",
       "Russian Federation            27\n",
       "Saint Kitts and Nevis          3\n",
       "Saint Lucia                   28\n",
       "Saint Vincent and Grenadines  25\n",
       "San Marino                     3\n",
       "Serbia                        18\n",
       "Seychelles                    18\n",
       "Singapore                     31\n",
       "Slovakia                      22\n",
       "Slovenia                      21\n",
       "South Africa                  20\n",
       "Spain                         31\n",
       "Sri Lanka                     11\n",
       "Suriname                      28\n",
       "Sweden                        30\n",
       "Switzerland                   21\n",
       "Thailand                      28\n",
       "Trinidad and Tobago           27\n",
       "Turkey                         7\n",
       "Turkmenistan                  29\n",
       "Ukraine                       28\n",
       "United Arab Emirates           6\n",
       "United Kingdom                31\n",
       "United States                 31\n",
       "Uruguay                       28\n",
       "Uzbekistan                    22\n",
       "\n",
       "[101 rows x 1 columns]"
      ]
     },
     "execution_count": 39,
     "metadata": {},
     "output_type": "execute_result"
    }
   ],
   "source": [
    "# data[data['country'] == 'Albania'].year.unique()\n",
    "country = data.country.unique()\n",
    "\n",
    "df_country = dict()\n",
    "\n",
    "for c in country:\n",
    "    unique_country = data[data['country'] == c].year.unique()\n",
    "    df_country[c] = len(unique_country)\n",
    "\n",
    "country_year = pd.DataFrame(data=df_country, index=[1]).T\n",
    "country_year"
   ]
  },
  {
   "cell_type": "code",
   "execution_count": 40,
   "metadata": {},
   "outputs": [
    {
     "data": {
      "text/plain": [
       "Text(0, 0.5, 'Number of Countries')"
      ]
     },
     "execution_count": 40,
     "metadata": {},
     "output_type": "execute_result"
    },
    {
     "data": {
      "image/png": "[encoded data removed]",
      "text/plain": [
       "<Figure size 864x576 with 1 Axes>"
      ]
     },
     "metadata": {},
     "output_type": "display_data"
    }
   ],
   "source": [
    "\n",
    "plt.figure(figsize=(12,8))\n",
    "country_year.reset_index().sort_values('index')\n",
    "bin_range = [10, 15, 20, 25, 30, 35]\n",
    "_ = plt.hist(country_year[1], bins= bin_range)\n",
    "plt.title(\"Number of Years a Country is represented in the Data Set\")\n",
    "plt.xlabel(\"Number of Years\")\n",
    "plt.ylabel(\"Number of Countries\")"
   ]
  },
  {
   "cell_type": "raw",
   "metadata": {},
   "source": [
    "Since the majority of countries are represented 20 years and more in the data it is possible to exclude all countries that are represented in less than 20 years without losing too much data. "
   ]
  },
  {
   "cell_type": "markdown",
   "metadata": {},
   "source": [
    "# Filtering the data by countries (> 20 years) and years (1990 - 2015)"
   ]
  },
  {
   "cell_type": "markdown",
   "metadata": {},
   "source": [
    "## First filtering by countries"
   ]
  },
  {
   "cell_type": "markdown",
   "metadata": {},
   "source": [
    "### Extracting countries that are represented in 20 or more years"
   ]
  },
  {
   "cell_type": "code",
   "execution_count": 41,
   "metadata": {},
   "outputs": [
    {
     "name": "stdout",
     "output_type": "stream",
     "text": [
      "<class 'pandas.core.frame.DataFrame'>\n",
      "Index: 101 entries, Albania to Uzbekistan\n",
      "Data columns (total 1 columns):\n",
      "1    76 non-null float64\n",
      "dtypes: float64(1)\n",
      "memory usage: 1.6+ KB\n"
     ]
    }
   ],
   "source": [
    "country_20 = country_year[country_year > 20]\n",
    "country_20.info()"
   ]
  },
  {
   "cell_type": "code",
   "execution_count": 42,
   "metadata": {},
   "outputs": [
    {
     "name": "stdout",
     "output_type": "stream",
     "text": [
      "<class 'pandas.core.frame.DataFrame'>\n",
      "Index: 76 entries, Albania to Uzbekistan\n",
      "Data columns (total 1 columns):\n",
      "1    76 non-null float64\n",
      "dtypes: float64(1)\n",
      "memory usage: 1.2+ KB\n"
     ]
    }
   ],
   "source": [
    "country_20 = country_20.dropna()\n",
    "country_20.info()"
   ]
  },
  {
   "cell_type": "code",
   "execution_count": 43,
   "metadata": {},
   "outputs": [
    {
     "data": {
      "text/html": [
       "<div>\n",
       "<style scoped>\n",
       "    .dataframe tbody tr th:only-of-type {\n",
       "        vertical-align: middle;\n",
       "    }\n",
       "\n",
       "    .dataframe tbody tr th {\n",
       "        vertical-align: top;\n",
       "    }\n",
       "\n",
       "    .dataframe thead th {\n",
       "        text-align: right;\n",
       "    }\n",
       "</style>\n",
       "<table border=\"1\" class=\"dataframe\">\n",
       "  <thead>\n",
       "    <tr style=\"text-align: right;\">\n",
       "      <th></th>\n",
       "      <th>1</th>\n",
       "    </tr>\n",
       "  </thead>\n",
       "  <tbody>\n",
       "    <tr>\n",
       "      <th>Albania</th>\n",
       "      <td>22.0</td>\n",
       "    </tr>\n",
       "    <tr>\n",
       "      <th>Antigua and Barbuda</th>\n",
       "      <td>27.0</td>\n",
       "    </tr>\n",
       "    <tr>\n",
       "      <th>Argentina</th>\n",
       "      <td>31.0</td>\n",
       "    </tr>\n",
       "    <tr>\n",
       "      <th>Armenia</th>\n",
       "      <td>25.0</td>\n",
       "    </tr>\n",
       "    <tr>\n",
       "      <th>Australia</th>\n",
       "      <td>30.0</td>\n",
       "    </tr>\n",
       "    <tr>\n",
       "      <th>Austria</th>\n",
       "      <td>32.0</td>\n",
       "    </tr>\n",
       "    <tr>\n",
       "      <th>Bahamas</th>\n",
       "      <td>23.0</td>\n",
       "    </tr>\n",
       "    <tr>\n",
       "      <th>Bahrain</th>\n",
       "      <td>21.0</td>\n",
       "    </tr>\n",
       "    <tr>\n",
       "      <th>Barbados</th>\n",
       "      <td>25.0</td>\n",
       "    </tr>\n",
       "    <tr>\n",
       "      <th>Belarus</th>\n",
       "      <td>21.0</td>\n",
       "    </tr>\n",
       "    <tr>\n",
       "      <th>Belgium</th>\n",
       "      <td>31.0</td>\n",
       "    </tr>\n",
       "    <tr>\n",
       "      <th>Belize</th>\n",
       "      <td>28.0</td>\n",
       "    </tr>\n",
       "    <tr>\n",
       "      <th>Brazil</th>\n",
       "      <td>31.0</td>\n",
       "    </tr>\n",
       "    <tr>\n",
       "      <th>Bulgaria</th>\n",
       "      <td>30.0</td>\n",
       "    </tr>\n",
       "    <tr>\n",
       "      <th>Canada</th>\n",
       "      <td>29.0</td>\n",
       "    </tr>\n",
       "    <tr>\n",
       "      <th>Chile</th>\n",
       "      <td>31.0</td>\n",
       "    </tr>\n",
       "    <tr>\n",
       "      <th>Colombia</th>\n",
       "      <td>31.0</td>\n",
       "    </tr>\n",
       "    <tr>\n",
       "      <th>Costa Rica</th>\n",
       "      <td>30.0</td>\n",
       "    </tr>\n",
       "    <tr>\n",
       "      <th>Croatia</th>\n",
       "      <td>22.0</td>\n",
       "    </tr>\n",
       "    <tr>\n",
       "      <th>Cuba</th>\n",
       "      <td>24.0</td>\n",
       "    </tr>\n",
       "    <tr>\n",
       "      <th>Czech Republic</th>\n",
       "      <td>27.0</td>\n",
       "    </tr>\n",
       "    <tr>\n",
       "      <th>Denmark</th>\n",
       "      <td>22.0</td>\n",
       "    </tr>\n",
       "    <tr>\n",
       "      <th>Ecuador</th>\n",
       "      <td>31.0</td>\n",
       "    </tr>\n",
       "    <tr>\n",
       "      <th>El Salvador</th>\n",
       "      <td>24.0</td>\n",
       "    </tr>\n",
       "    <tr>\n",
       "      <th>Estonia</th>\n",
       "      <td>21.0</td>\n",
       "    </tr>\n",
       "    <tr>\n",
       "      <th>Finland</th>\n",
       "      <td>29.0</td>\n",
       "    </tr>\n",
       "    <tr>\n",
       "      <th>France</th>\n",
       "      <td>30.0</td>\n",
       "    </tr>\n",
       "    <tr>\n",
       "      <th>Georgia</th>\n",
       "      <td>22.0</td>\n",
       "    </tr>\n",
       "    <tr>\n",
       "      <th>Germany</th>\n",
       "      <td>26.0</td>\n",
       "    </tr>\n",
       "    <tr>\n",
       "      <th>Greece</th>\n",
       "      <td>31.0</td>\n",
       "    </tr>\n",
       "    <tr>\n",
       "      <th>...</th>\n",
       "      <td>...</td>\n",
       "    </tr>\n",
       "    <tr>\n",
       "      <th>Mauritius</th>\n",
       "      <td>32.0</td>\n",
       "    </tr>\n",
       "    <tr>\n",
       "      <th>Mexico</th>\n",
       "      <td>31.0</td>\n",
       "    </tr>\n",
       "    <tr>\n",
       "      <th>Netherlands</th>\n",
       "      <td>32.0</td>\n",
       "    </tr>\n",
       "    <tr>\n",
       "      <th>New Zealand</th>\n",
       "      <td>29.0</td>\n",
       "    </tr>\n",
       "    <tr>\n",
       "      <th>Norway</th>\n",
       "      <td>30.0</td>\n",
       "    </tr>\n",
       "    <tr>\n",
       "      <th>Panama</th>\n",
       "      <td>25.0</td>\n",
       "    </tr>\n",
       "    <tr>\n",
       "      <th>Paraguay</th>\n",
       "      <td>27.0</td>\n",
       "    </tr>\n",
       "    <tr>\n",
       "      <th>Poland</th>\n",
       "      <td>24.0</td>\n",
       "    </tr>\n",
       "    <tr>\n",
       "      <th>Portugal</th>\n",
       "      <td>27.0</td>\n",
       "    </tr>\n",
       "    <tr>\n",
       "      <th>Puerto Rico</th>\n",
       "      <td>31.0</td>\n",
       "    </tr>\n",
       "    <tr>\n",
       "      <th>Republic of Korea</th>\n",
       "      <td>31.0</td>\n",
       "    </tr>\n",
       "    <tr>\n",
       "      <th>Romania</th>\n",
       "      <td>28.0</td>\n",
       "    </tr>\n",
       "    <tr>\n",
       "      <th>Russian Federation</th>\n",
       "      <td>27.0</td>\n",
       "    </tr>\n",
       "    <tr>\n",
       "      <th>Saint Lucia</th>\n",
       "      <td>28.0</td>\n",
       "    </tr>\n",
       "    <tr>\n",
       "      <th>Saint Vincent and Grenadines</th>\n",
       "      <td>25.0</td>\n",
       "    </tr>\n",
       "    <tr>\n",
       "      <th>Singapore</th>\n",
       "      <td>31.0</td>\n",
       "    </tr>\n",
       "    <tr>\n",
       "      <th>Slovakia</th>\n",
       "      <td>22.0</td>\n",
       "    </tr>\n",
       "    <tr>\n",
       "      <th>Slovenia</th>\n",
       "      <td>21.0</td>\n",
       "    </tr>\n",
       "    <tr>\n",
       "      <th>Spain</th>\n",
       "      <td>31.0</td>\n",
       "    </tr>\n",
       "    <tr>\n",
       "      <th>Suriname</th>\n",
       "      <td>28.0</td>\n",
       "    </tr>\n",
       "    <tr>\n",
       "      <th>Sweden</th>\n",
       "      <td>30.0</td>\n",
       "    </tr>\n",
       "    <tr>\n",
       "      <th>Switzerland</th>\n",
       "      <td>21.0</td>\n",
       "    </tr>\n",
       "    <tr>\n",
       "      <th>Thailand</th>\n",
       "      <td>28.0</td>\n",
       "    </tr>\n",
       "    <tr>\n",
       "      <th>Trinidad and Tobago</th>\n",
       "      <td>27.0</td>\n",
       "    </tr>\n",
       "    <tr>\n",
       "      <th>Turkmenistan</th>\n",
       "      <td>29.0</td>\n",
       "    </tr>\n",
       "    <tr>\n",
       "      <th>Ukraine</th>\n",
       "      <td>28.0</td>\n",
       "    </tr>\n",
       "    <tr>\n",
       "      <th>United Kingdom</th>\n",
       "      <td>31.0</td>\n",
       "    </tr>\n",
       "    <tr>\n",
       "      <th>United States</th>\n",
       "      <td>31.0</td>\n",
       "    </tr>\n",
       "    <tr>\n",
       "      <th>Uruguay</th>\n",
       "      <td>28.0</td>\n",
       "    </tr>\n",
       "    <tr>\n",
       "      <th>Uzbekistan</th>\n",
       "      <td>22.0</td>\n",
       "    </tr>\n",
       "  </tbody>\n",
       "</table>\n",
       "<p>76 rows × 1 columns</p>\n",
       "</div>"
      ],
      "text/plain": [
       "                                 1\n",
       "Albania                       22.0\n",
       "Antigua and Barbuda           27.0\n",
       "Argentina                     31.0\n",
       "Armenia                       25.0\n",
       "Australia                     30.0\n",
       "Austria                       32.0\n",
       "Bahamas                       23.0\n",
       "Bahrain                       21.0\n",
       "Barbados                      25.0\n",
       "Belarus                       21.0\n",
       "Belgium                       31.0\n",
       "Belize                        28.0\n",
       "Brazil                        31.0\n",
       "Bulgaria                      30.0\n",
       "Canada                        29.0\n",
       "Chile                         31.0\n",
       "Colombia                      31.0\n",
       "Costa Rica                    30.0\n",
       "Croatia                       22.0\n",
       "Cuba                          24.0\n",
       "Czech Republic                27.0\n",
       "Denmark                       22.0\n",
       "Ecuador                       31.0\n",
       "El Salvador                   24.0\n",
       "Estonia                       21.0\n",
       "Finland                       29.0\n",
       "France                        30.0\n",
       "Georgia                       22.0\n",
       "Germany                       26.0\n",
       "Greece                        31.0\n",
       "...                            ...\n",
       "Mauritius                     32.0\n",
       "Mexico                        31.0\n",
       "Netherlands                   32.0\n",
       "New Zealand                   29.0\n",
       "Norway                        30.0\n",
       "Panama                        25.0\n",
       "Paraguay                      27.0\n",
       "Poland                        24.0\n",
       "Portugal                      27.0\n",
       "Puerto Rico                   31.0\n",
       "Republic of Korea             31.0\n",
       "Romania                       28.0\n",
       "Russian Federation            27.0\n",
       "Saint Lucia                   28.0\n",
       "Saint Vincent and Grenadines  25.0\n",
       "Singapore                     31.0\n",
       "Slovakia                      22.0\n",
       "Slovenia                      21.0\n",
       "Spain                         31.0\n",
       "Suriname                      28.0\n",
       "Sweden                        30.0\n",
       "Switzerland                   21.0\n",
       "Thailand                      28.0\n",
       "Trinidad and Tobago           27.0\n",
       "Turkmenistan                  29.0\n",
       "Ukraine                       28.0\n",
       "United Kingdom                31.0\n",
       "United States                 31.0\n",
       "Uruguay                       28.0\n",
       "Uzbekistan                    22.0\n",
       "\n",
       "[76 rows x 1 columns]"
      ]
     },
     "execution_count": 43,
     "metadata": {},
     "output_type": "execute_result"
    }
   ],
   "source": [
    "country_20"
   ]
  },
  {
   "cell_type": "markdown",
   "metadata": {},
   "source": [
    "### Creating a list of the countries that are represented in 20 or more years"
   ]
  },
  {
   "cell_type": "code",
   "execution_count": 44,
   "metadata": {},
   "outputs": [
    {
     "data": {
      "text/plain": [
       "['Albania',\n",
       " 'Antigua and Barbuda',\n",
       " 'Argentina',\n",
       " 'Armenia',\n",
       " 'Australia',\n",
       " 'Austria',\n",
       " 'Bahamas',\n",
       " 'Bahrain',\n",
       " 'Barbados',\n",
       " 'Belarus',\n",
       " 'Belgium',\n",
       " 'Belize',\n",
       " 'Brazil',\n",
       " 'Bulgaria',\n",
       " 'Canada',\n",
       " 'Chile',\n",
       " 'Colombia',\n",
       " 'Costa Rica',\n",
       " 'Croatia',\n",
       " 'Cuba',\n",
       " 'Czech Republic',\n",
       " 'Denmark',\n",
       " 'Ecuador',\n",
       " 'El Salvador',\n",
       " 'Estonia',\n",
       " 'Finland',\n",
       " 'France',\n",
       " 'Georgia',\n",
       " 'Germany',\n",
       " 'Greece',\n",
       " 'Grenada',\n",
       " 'Guatemala',\n",
       " 'Guyana',\n",
       " 'Hungary',\n",
       " 'Iceland',\n",
       " 'Ireland',\n",
       " 'Israel',\n",
       " 'Italy',\n",
       " 'Japan',\n",
       " 'Kazakhstan',\n",
       " 'Kuwait',\n",
       " 'Kyrgyzstan',\n",
       " 'Latvia',\n",
       " 'Lithuania',\n",
       " 'Luxembourg',\n",
       " 'Malta',\n",
       " 'Mauritius',\n",
       " 'Mexico',\n",
       " 'Netherlands',\n",
       " 'New Zealand',\n",
       " 'Norway',\n",
       " 'Panama',\n",
       " 'Paraguay',\n",
       " 'Poland',\n",
       " 'Portugal',\n",
       " 'Puerto Rico',\n",
       " 'Republic of Korea',\n",
       " 'Romania',\n",
       " 'Russian Federation',\n",
       " 'Saint Lucia',\n",
       " 'Saint Vincent and Grenadines',\n",
       " 'Singapore',\n",
       " 'Slovakia',\n",
       " 'Slovenia',\n",
       " 'Spain',\n",
       " 'Suriname',\n",
       " 'Sweden',\n",
       " 'Switzerland',\n",
       " 'Thailand',\n",
       " 'Trinidad and Tobago',\n",
       " 'Turkmenistan',\n",
       " 'Ukraine',\n",
       " 'United Kingdom',\n",
       " 'United States',\n",
       " 'Uruguay',\n",
       " 'Uzbekistan']"
      ]
     },
     "execution_count": 44,
     "metadata": {},
     "output_type": "execute_result"
    }
   ],
   "source": [
    "country_20 = country_20.reset_index().sort_values('index')\n",
    "country_20 = country_20['index'].tolist()\n",
    "country_20"
   ]
  },
  {
   "cell_type": "markdown",
   "metadata": {},
   "source": [
    "### Taking these countries from the data"
   ]
  },
  {
   "cell_type": "code",
   "execution_count": 45,
   "metadata": {},
   "outputs": [
    {
     "name": "stdout",
     "output_type": "stream",
     "text": [
      "<class 'pandas.core.frame.DataFrame'>\n",
      "Int64Index: 25006 entries, 0 to 27819\n",
      "Data columns (total 12 columns):\n",
      "country               25006 non-null object\n",
      "year                  25006 non-null int64\n",
      "sex                   25006 non-null object\n",
      "age                   25006 non-null object\n",
      "suicides_no           25006 non-null int64\n",
      "population            25006 non-null int64\n",
      "suicides/100k pop     25006 non-null float64\n",
      "country-year          25006 non-null object\n",
      "HDI for year          7512 non-null float64\n",
      " gdp_for_year ($)     25006 non-null object\n",
      "gdp_per_capita ($)    25006 non-null int64\n",
      "generation            25006 non-null object\n",
      "dtypes: float64(2), int64(4), object(6)\n",
      "memory usage: 2.5+ MB\n"
     ]
    }
   ],
   "source": [
    "df_filtered = pd.DataFrame()\n",
    "\n",
    "for c in country_20:\n",
    "    filtered_bycountry = data[(data['country'] == c)]\n",
    "    df_filtered = df_filtered.append(filtered_bycountry) \n",
    "\n",
    "df_filtered.info()"
   ]
  },
  {
   "cell_type": "code",
   "execution_count": 46,
   "metadata": {},
   "outputs": [
    {
     "data": {
      "text/html": [
       "<div>\n",
       "<style scoped>\n",
       "    .dataframe tbody tr th:only-of-type {\n",
       "        vertical-align: middle;\n",
       "    }\n",
       "\n",
       "    .dataframe tbody tr th {\n",
       "        vertical-align: top;\n",
       "    }\n",
       "\n",
       "    .dataframe thead th {\n",
       "        text-align: right;\n",
       "    }\n",
       "</style>\n",
       "<table border=\"1\" class=\"dataframe\">\n",
       "  <thead>\n",
       "    <tr style=\"text-align: right;\">\n",
       "      <th></th>\n",
       "      <th>country</th>\n",
       "      <th>year</th>\n",
       "      <th>sex</th>\n",
       "      <th>age</th>\n",
       "      <th>suicides_no</th>\n",
       "      <th>population</th>\n",
       "      <th>suicides/100k pop</th>\n",
       "      <th>country-year</th>\n",
       "      <th>HDI for year</th>\n",
       "      <th>gdp_for_year ($)</th>\n",
       "      <th>gdp_per_capita ($)</th>\n",
       "      <th>generation</th>\n",
       "    </tr>\n",
       "  </thead>\n",
       "  <tbody>\n",
       "    <tr>\n",
       "      <th>0</th>\n",
       "      <td>Albania</td>\n",
       "      <td>1987</td>\n",
       "      <td>male</td>\n",
       "      <td>15-24 years</td>\n",
       "      <td>21</td>\n",
       "      <td>312900</td>\n",
       "      <td>6.71</td>\n",
       "      <td>Albania1987</td>\n",
       "      <td>NaN</td>\n",
       "      <td>2,156,624,900</td>\n",
       "      <td>796</td>\n",
       "      <td>Generation X</td>\n",
       "    </tr>\n",
       "    <tr>\n",
       "      <th>1</th>\n",
       "      <td>Albania</td>\n",
       "      <td>1987</td>\n",
       "      <td>male</td>\n",
       "      <td>35-54 years</td>\n",
       "      <td>16</td>\n",
       "      <td>308000</td>\n",
       "      <td>5.19</td>\n",
       "      <td>Albania1987</td>\n",
       "      <td>NaN</td>\n",
       "      <td>2,156,624,900</td>\n",
       "      <td>796</td>\n",
       "      <td>Silent</td>\n",
       "    </tr>\n",
       "    <tr>\n",
       "      <th>2</th>\n",
       "      <td>Albania</td>\n",
       "      <td>1987</td>\n",
       "      <td>female</td>\n",
       "      <td>15-24 years</td>\n",
       "      <td>14</td>\n",
       "      <td>289700</td>\n",
       "      <td>4.83</td>\n",
       "      <td>Albania1987</td>\n",
       "      <td>NaN</td>\n",
       "      <td>2,156,624,900</td>\n",
       "      <td>796</td>\n",
       "      <td>Generation X</td>\n",
       "    </tr>\n",
       "    <tr>\n",
       "      <th>3</th>\n",
       "      <td>Albania</td>\n",
       "      <td>1987</td>\n",
       "      <td>male</td>\n",
       "      <td>75+ years</td>\n",
       "      <td>1</td>\n",
       "      <td>21800</td>\n",
       "      <td>4.59</td>\n",
       "      <td>Albania1987</td>\n",
       "      <td>NaN</td>\n",
       "      <td>2,156,624,900</td>\n",
       "      <td>796</td>\n",
       "      <td>G.I. Generation</td>\n",
       "    </tr>\n",
       "    <tr>\n",
       "      <th>4</th>\n",
       "      <td>Albania</td>\n",
       "      <td>1987</td>\n",
       "      <td>male</td>\n",
       "      <td>25-34 years</td>\n",
       "      <td>9</td>\n",
       "      <td>274300</td>\n",
       "      <td>3.28</td>\n",
       "      <td>Albania1987</td>\n",
       "      <td>NaN</td>\n",
       "      <td>2,156,624,900</td>\n",
       "      <td>796</td>\n",
       "      <td>Boomers</td>\n",
       "    </tr>\n",
       "  </tbody>\n",
       "</table>\n",
       "</div>"
      ],
      "text/plain": [
       "   country  year     sex          age  suicides_no  population  \\\n",
       "0  Albania  1987    male  15-24 years           21      312900   \n",
       "1  Albania  1987    male  35-54 years           16      308000   \n",
       "2  Albania  1987  female  15-24 years           14      289700   \n",
       "3  Albania  1987    male    75+ years            1       21800   \n",
       "4  Albania  1987    male  25-34 years            9      274300   \n",
       "\n",
       "   suicides/100k pop country-year  HDI for year  gdp_for_year ($)   \\\n",
       "0               6.71  Albania1987           NaN      2,156,624,900   \n",
       "1               5.19  Albania1987           NaN      2,156,624,900   \n",
       "2               4.83  Albania1987           NaN      2,156,624,900   \n",
       "3               4.59  Albania1987           NaN      2,156,624,900   \n",
       "4               3.28  Albania1987           NaN      2,156,624,900   \n",
       "\n",
       "   gdp_per_capita ($)       generation  \n",
       "0                 796     Generation X  \n",
       "1                 796           Silent  \n",
       "2                 796     Generation X  \n",
       "3                 796  G.I. Generation  \n",
       "4                 796          Boomers  "
      ]
     },
     "execution_count": 46,
     "metadata": {},
     "output_type": "execute_result"
    }
   ],
   "source": [
    "df_filtered.head()"
   ]
  },
  {
   "cell_type": "code",
   "execution_count": 47,
   "metadata": {},
   "outputs": [
    {
     "data": {
      "text/html": [
       "<div>\n",
       "<style scoped>\n",
       "    .dataframe tbody tr th:only-of-type {\n",
       "        vertical-align: middle;\n",
       "    }\n",
       "\n",
       "    .dataframe tbody tr th {\n",
       "        vertical-align: top;\n",
       "    }\n",
       "\n",
       "    .dataframe thead th {\n",
       "        text-align: right;\n",
       "    }\n",
       "</style>\n",
       "<table border=\"1\" class=\"dataframe\">\n",
       "  <thead>\n",
       "    <tr style=\"text-align: right;\">\n",
       "      <th></th>\n",
       "      <th>country</th>\n",
       "      <th>year</th>\n",
       "      <th>sex</th>\n",
       "      <th>age</th>\n",
       "      <th>suicides_no</th>\n",
       "      <th>population</th>\n",
       "      <th>suicides/100k pop</th>\n",
       "      <th>country-year</th>\n",
       "      <th>HDI for year</th>\n",
       "      <th>gdp_for_year ($)</th>\n",
       "      <th>gdp_per_capita ($)</th>\n",
       "      <th>generation</th>\n",
       "    </tr>\n",
       "  </thead>\n",
       "  <tbody>\n",
       "    <tr>\n",
       "      <th>27815</th>\n",
       "      <td>Uzbekistan</td>\n",
       "      <td>2014</td>\n",
       "      <td>female</td>\n",
       "      <td>35-54 years</td>\n",
       "      <td>107</td>\n",
       "      <td>3620833</td>\n",
       "      <td>2.96</td>\n",
       "      <td>Uzbekistan2014</td>\n",
       "      <td>0.675</td>\n",
       "      <td>63,067,077,179</td>\n",
       "      <td>2309</td>\n",
       "      <td>Generation X</td>\n",
       "    </tr>\n",
       "    <tr>\n",
       "      <th>27816</th>\n",
       "      <td>Uzbekistan</td>\n",
       "      <td>2014</td>\n",
       "      <td>female</td>\n",
       "      <td>75+ years</td>\n",
       "      <td>9</td>\n",
       "      <td>348465</td>\n",
       "      <td>2.58</td>\n",
       "      <td>Uzbekistan2014</td>\n",
       "      <td>0.675</td>\n",
       "      <td>63,067,077,179</td>\n",
       "      <td>2309</td>\n",
       "      <td>Silent</td>\n",
       "    </tr>\n",
       "    <tr>\n",
       "      <th>27817</th>\n",
       "      <td>Uzbekistan</td>\n",
       "      <td>2014</td>\n",
       "      <td>male</td>\n",
       "      <td>5-14 years</td>\n",
       "      <td>60</td>\n",
       "      <td>2762158</td>\n",
       "      <td>2.17</td>\n",
       "      <td>Uzbekistan2014</td>\n",
       "      <td>0.675</td>\n",
       "      <td>63,067,077,179</td>\n",
       "      <td>2309</td>\n",
       "      <td>Generation Z</td>\n",
       "    </tr>\n",
       "    <tr>\n",
       "      <th>27818</th>\n",
       "      <td>Uzbekistan</td>\n",
       "      <td>2014</td>\n",
       "      <td>female</td>\n",
       "      <td>5-14 years</td>\n",
       "      <td>44</td>\n",
       "      <td>2631600</td>\n",
       "      <td>1.67</td>\n",
       "      <td>Uzbekistan2014</td>\n",
       "      <td>0.675</td>\n",
       "      <td>63,067,077,179</td>\n",
       "      <td>2309</td>\n",
       "      <td>Generation Z</td>\n",
       "    </tr>\n",
       "    <tr>\n",
       "      <th>27819</th>\n",
       "      <td>Uzbekistan</td>\n",
       "      <td>2014</td>\n",
       "      <td>female</td>\n",
       "      <td>55-74 years</td>\n",
       "      <td>21</td>\n",
       "      <td>1438935</td>\n",
       "      <td>1.46</td>\n",
       "      <td>Uzbekistan2014</td>\n",
       "      <td>0.675</td>\n",
       "      <td>63,067,077,179</td>\n",
       "      <td>2309</td>\n",
       "      <td>Boomers</td>\n",
       "    </tr>\n",
       "  </tbody>\n",
       "</table>\n",
       "</div>"
      ],
      "text/plain": [
       "          country  year     sex          age  suicides_no  population  \\\n",
       "27815  Uzbekistan  2014  female  35-54 years          107     3620833   \n",
       "27816  Uzbekistan  2014  female    75+ years            9      348465   \n",
       "27817  Uzbekistan  2014    male   5-14 years           60     2762158   \n",
       "27818  Uzbekistan  2014  female   5-14 years           44     2631600   \n",
       "27819  Uzbekistan  2014  female  55-74 years           21     1438935   \n",
       "\n",
       "       suicides/100k pop    country-year  HDI for year  gdp_for_year ($)   \\\n",
       "27815               2.96  Uzbekistan2014         0.675     63,067,077,179   \n",
       "27816               2.58  Uzbekistan2014         0.675     63,067,077,179   \n",
       "27817               2.17  Uzbekistan2014         0.675     63,067,077,179   \n",
       "27818               1.67  Uzbekistan2014         0.675     63,067,077,179   \n",
       "27819               1.46  Uzbekistan2014         0.675     63,067,077,179   \n",
       "\n",
       "       gdp_per_capita ($)    generation  \n",
       "27815                2309  Generation X  \n",
       "27816                2309        Silent  \n",
       "27817                2309  Generation Z  \n",
       "27818                2309  Generation Z  \n",
       "27819                2309       Boomers  "
      ]
     },
     "execution_count": 47,
     "metadata": {},
     "output_type": "execute_result"
    }
   ],
   "source": [
    "df_filtered.tail()"
   ]
  },
  {
   "cell_type": "markdown",
   "metadata": {},
   "source": [
    "## Second: Filtering by the years 1990 - 2015"
   ]
  },
  {
   "cell_type": "code",
   "execution_count": 48,
   "metadata": {},
   "outputs": [
    {
     "data": {
      "text/html": [
       "<div>\n",
       "<style scoped>\n",
       "    .dataframe tbody tr th:only-of-type {\n",
       "        vertical-align: middle;\n",
       "    }\n",
       "\n",
       "    .dataframe tbody tr th {\n",
       "        vertical-align: top;\n",
       "    }\n",
       "\n",
       "    .dataframe thead th {\n",
       "        text-align: right;\n",
       "    }\n",
       "</style>\n",
       "<table border=\"1\" class=\"dataframe\">\n",
       "  <thead>\n",
       "    <tr style=\"text-align: right;\">\n",
       "      <th></th>\n",
       "      <th>country</th>\n",
       "      <th>year</th>\n",
       "      <th>sex</th>\n",
       "      <th>age</th>\n",
       "      <th>suicides_no</th>\n",
       "      <th>population</th>\n",
       "      <th>suicides/100k pop</th>\n",
       "      <th>country-year</th>\n",
       "      <th>HDI for year</th>\n",
       "      <th>gdp_for_year ($)</th>\n",
       "      <th>gdp_per_capita ($)</th>\n",
       "      <th>generation</th>\n",
       "    </tr>\n",
       "  </thead>\n",
       "  <tbody>\n",
       "    <tr>\n",
       "      <th>36</th>\n",
       "      <td>Albania</td>\n",
       "      <td>1992</td>\n",
       "      <td>male</td>\n",
       "      <td>35-54 years</td>\n",
       "      <td>12</td>\n",
       "      <td>343800</td>\n",
       "      <td>3.49</td>\n",
       "      <td>Albania1992</td>\n",
       "      <td>NaN</td>\n",
       "      <td>709,452,584</td>\n",
       "      <td>251</td>\n",
       "      <td>Boomers</td>\n",
       "    </tr>\n",
       "    <tr>\n",
       "      <th>37</th>\n",
       "      <td>Albania</td>\n",
       "      <td>1992</td>\n",
       "      <td>male</td>\n",
       "      <td>15-24 years</td>\n",
       "      <td>9</td>\n",
       "      <td>263700</td>\n",
       "      <td>3.41</td>\n",
       "      <td>Albania1992</td>\n",
       "      <td>NaN</td>\n",
       "      <td>709,452,584</td>\n",
       "      <td>251</td>\n",
       "      <td>Generation X</td>\n",
       "    </tr>\n",
       "    <tr>\n",
       "      <th>38</th>\n",
       "      <td>Albania</td>\n",
       "      <td>1992</td>\n",
       "      <td>male</td>\n",
       "      <td>55-74 years</td>\n",
       "      <td>5</td>\n",
       "      <td>159500</td>\n",
       "      <td>3.13</td>\n",
       "      <td>Albania1992</td>\n",
       "      <td>NaN</td>\n",
       "      <td>709,452,584</td>\n",
       "      <td>251</td>\n",
       "      <td>Silent</td>\n",
       "    </tr>\n",
       "    <tr>\n",
       "      <th>39</th>\n",
       "      <td>Albania</td>\n",
       "      <td>1992</td>\n",
       "      <td>male</td>\n",
       "      <td>25-34 years</td>\n",
       "      <td>7</td>\n",
       "      <td>245500</td>\n",
       "      <td>2.85</td>\n",
       "      <td>Albania1992</td>\n",
       "      <td>NaN</td>\n",
       "      <td>709,452,584</td>\n",
       "      <td>251</td>\n",
       "      <td>Boomers</td>\n",
       "    </tr>\n",
       "    <tr>\n",
       "      <th>40</th>\n",
       "      <td>Albania</td>\n",
       "      <td>1992</td>\n",
       "      <td>female</td>\n",
       "      <td>15-24 years</td>\n",
       "      <td>7</td>\n",
       "      <td>292400</td>\n",
       "      <td>2.39</td>\n",
       "      <td>Albania1992</td>\n",
       "      <td>NaN</td>\n",
       "      <td>709,452,584</td>\n",
       "      <td>251</td>\n",
       "      <td>Generation X</td>\n",
       "    </tr>\n",
       "  </tbody>\n",
       "</table>\n",
       "</div>"
      ],
      "text/plain": [
       "    country  year     sex          age  suicides_no  population  \\\n",
       "36  Albania  1992    male  35-54 years           12      343800   \n",
       "37  Albania  1992    male  15-24 years            9      263700   \n",
       "38  Albania  1992    male  55-74 years            5      159500   \n",
       "39  Albania  1992    male  25-34 years            7      245500   \n",
       "40  Albania  1992  female  15-24 years            7      292400   \n",
       "\n",
       "    suicides/100k pop country-year  HDI for year  gdp_for_year ($)   \\\n",
       "36               3.49  Albania1992           NaN        709,452,584   \n",
       "37               3.41  Albania1992           NaN        709,452,584   \n",
       "38               3.13  Albania1992           NaN        709,452,584   \n",
       "39               2.85  Albania1992           NaN        709,452,584   \n",
       "40               2.39  Albania1992           NaN        709,452,584   \n",
       "\n",
       "    gdp_per_capita ($)    generation  \n",
       "36                 251       Boomers  \n",
       "37                 251  Generation X  \n",
       "38                 251        Silent  \n",
       "39                 251       Boomers  \n",
       "40                 251  Generation X  "
      ]
     },
     "execution_count": 48,
     "metadata": {},
     "output_type": "execute_result"
    }
   ],
   "source": [
    "df_filtered2 = df_filtered[(df_filtered['year'] > 1990) & (df_filtered['year'] < 2016)]\n",
    "#df[(df['Date'] > '2014-06-05') & (df['Date'] < '2015-06-11')]\n",
    "df_filtered2.head()"
   ]
  },
  {
   "cell_type": "code",
   "execution_count": 49,
   "metadata": {},
   "outputs": [
    {
     "data": {
      "text/html": [
       "<div>\n",
       "<style scoped>\n",
       "    .dataframe tbody tr th:only-of-type {\n",
       "        vertical-align: middle;\n",
       "    }\n",
       "\n",
       "    .dataframe tbody tr th {\n",
       "        vertical-align: top;\n",
       "    }\n",
       "\n",
       "    .dataframe thead th {\n",
       "        text-align: right;\n",
       "    }\n",
       "</style>\n",
       "<table border=\"1\" class=\"dataframe\">\n",
       "  <thead>\n",
       "    <tr style=\"text-align: right;\">\n",
       "      <th></th>\n",
       "      <th>country</th>\n",
       "      <th>year</th>\n",
       "      <th>sex</th>\n",
       "      <th>age</th>\n",
       "      <th>suicides_no</th>\n",
       "      <th>population</th>\n",
       "      <th>suicides/100k pop</th>\n",
       "      <th>country-year</th>\n",
       "      <th>HDI for year</th>\n",
       "      <th>gdp_for_year ($)</th>\n",
       "      <th>gdp_per_capita ($)</th>\n",
       "      <th>generation</th>\n",
       "    </tr>\n",
       "  </thead>\n",
       "  <tbody>\n",
       "    <tr>\n",
       "      <th>27815</th>\n",
       "      <td>Uzbekistan</td>\n",
       "      <td>2014</td>\n",
       "      <td>female</td>\n",
       "      <td>35-54 years</td>\n",
       "      <td>107</td>\n",
       "      <td>3620833</td>\n",
       "      <td>2.96</td>\n",
       "      <td>Uzbekistan2014</td>\n",
       "      <td>0.675</td>\n",
       "      <td>63,067,077,179</td>\n",
       "      <td>2309</td>\n",
       "      <td>Generation X</td>\n",
       "    </tr>\n",
       "    <tr>\n",
       "      <th>27816</th>\n",
       "      <td>Uzbekistan</td>\n",
       "      <td>2014</td>\n",
       "      <td>female</td>\n",
       "      <td>75+ years</td>\n",
       "      <td>9</td>\n",
       "      <td>348465</td>\n",
       "      <td>2.58</td>\n",
       "      <td>Uzbekistan2014</td>\n",
       "      <td>0.675</td>\n",
       "      <td>63,067,077,179</td>\n",
       "      <td>2309</td>\n",
       "      <td>Silent</td>\n",
       "    </tr>\n",
       "    <tr>\n",
       "      <th>27817</th>\n",
       "      <td>Uzbekistan</td>\n",
       "      <td>2014</td>\n",
       "      <td>male</td>\n",
       "      <td>5-14 years</td>\n",
       "      <td>60</td>\n",
       "      <td>2762158</td>\n",
       "      <td>2.17</td>\n",
       "      <td>Uzbekistan2014</td>\n",
       "      <td>0.675</td>\n",
       "      <td>63,067,077,179</td>\n",
       "      <td>2309</td>\n",
       "      <td>Generation Z</td>\n",
       "    </tr>\n",
       "    <tr>\n",
       "      <th>27818</th>\n",
       "      <td>Uzbekistan</td>\n",
       "      <td>2014</td>\n",
       "      <td>female</td>\n",
       "      <td>5-14 years</td>\n",
       "      <td>44</td>\n",
       "      <td>2631600</td>\n",
       "      <td>1.67</td>\n",
       "      <td>Uzbekistan2014</td>\n",
       "      <td>0.675</td>\n",
       "      <td>63,067,077,179</td>\n",
       "      <td>2309</td>\n",
       "      <td>Generation Z</td>\n",
       "    </tr>\n",
       "    <tr>\n",
       "      <th>27819</th>\n",
       "      <td>Uzbekistan</td>\n",
       "      <td>2014</td>\n",
       "      <td>female</td>\n",
       "      <td>55-74 years</td>\n",
       "      <td>21</td>\n",
       "      <td>1438935</td>\n",
       "      <td>1.46</td>\n",
       "      <td>Uzbekistan2014</td>\n",
       "      <td>0.675</td>\n",
       "      <td>63,067,077,179</td>\n",
       "      <td>2309</td>\n",
       "      <td>Boomers</td>\n",
       "    </tr>\n",
       "  </tbody>\n",
       "</table>\n",
       "</div>"
      ],
      "text/plain": [
       "          country  year     sex          age  suicides_no  population  \\\n",
       "27815  Uzbekistan  2014  female  35-54 years          107     3620833   \n",
       "27816  Uzbekistan  2014  female    75+ years            9      348465   \n",
       "27817  Uzbekistan  2014    male   5-14 years           60     2762158   \n",
       "27818  Uzbekistan  2014  female   5-14 years           44     2631600   \n",
       "27819  Uzbekistan  2014  female  55-74 years           21     1438935   \n",
       "\n",
       "       suicides/100k pop    country-year  HDI for year  gdp_for_year ($)   \\\n",
       "27815               2.96  Uzbekistan2014         0.675     63,067,077,179   \n",
       "27816               2.58  Uzbekistan2014         0.675     63,067,077,179   \n",
       "27817               2.17  Uzbekistan2014         0.675     63,067,077,179   \n",
       "27818               1.67  Uzbekistan2014         0.675     63,067,077,179   \n",
       "27819               1.46  Uzbekistan2014         0.675     63,067,077,179   \n",
       "\n",
       "       gdp_per_capita ($)    generation  \n",
       "27815                2309  Generation X  \n",
       "27816                2309        Silent  \n",
       "27817                2309  Generation Z  \n",
       "27818                2309  Generation Z  \n",
       "27819                2309       Boomers  "
      ]
     },
     "execution_count": 49,
     "metadata": {},
     "output_type": "execute_result"
    }
   ],
   "source": [
    "df_filtered2.tail()"
   ]
  },
  {
   "cell_type": "code",
   "execution_count": 50,
   "metadata": {},
   "outputs": [],
   "source": [
    "suicides_percountry = df_filtered2.groupby(['country', 'year'])['suicides/100k pop'].mean()"
   ]
  },
  {
   "cell_type": "markdown",
   "metadata": {},
   "source": [
    "#### Checking how many missing values are still in the data"
   ]
  },
  {
   "cell_type": "code",
   "execution_count": 51,
   "metadata": {},
   "outputs": [
    {
     "data": {
      "text/plain": [
       "39"
      ]
     },
     "execution_count": 51,
     "metadata": {},
     "output_type": "execute_result"
    }
   ],
   "source": [
    "suicides_percountry = suicides_percountry.replace(0.0, np.nan)\n",
    "suicides_percountry.isnull().sum().sum()"
   ]
  },
  {
   "cell_type": "markdown",
   "metadata": {},
   "source": [
    "#### Replacing NaNs"
   ]
  },
  {
   "cell_type": "code",
   "execution_count": 52,
   "metadata": {},
   "outputs": [
    {
     "data": {
      "text/plain": [
       "0"
      ]
     },
     "execution_count": 52,
     "metadata": {},
     "output_type": "execute_result"
    }
   ],
   "source": [
    "suicides_percountry.fillna(method='ffill',inplace=True)\n",
    "suicides_percountry.isnull().sum().sum()"
   ]
  },
  {
   "cell_type": "code",
   "execution_count": 53,
   "metadata": {},
   "outputs": [
    {
     "data": {
      "text/plain": [
       "country              year\n",
       "Albania              1992     1.500000\n",
       "                     1993     2.713333\n",
       "                     1994     2.681667\n",
       "                     1995     3.379167\n",
       "                     1996     3.635000\n",
       "                     1997     6.452500\n",
       "                     1998     5.543333\n",
       "                     1999     5.817500\n",
       "                     2000     2.558333\n",
       "                     2001     4.218333\n",
       "                     2002     5.209167\n",
       "                     2003     4.883333\n",
       "                     2004     5.449167\n",
       "                     2005     5.449167\n",
       "                     2006     5.449167\n",
       "                     2007     5.487500\n",
       "                     2008     5.920833\n",
       "                     2009     5.920833\n",
       "                     2010     3.471667\n",
       "Antigua and Barbuda  1991     3.471667\n",
       "                     1992     3.471667\n",
       "                     1993     1.250000\n",
       "                     1994     1.250000\n",
       "                     1995     1.250000\n",
       "                     1998     1.250000\n",
       "                     1999     1.250000\n",
       "                     2000     3.330833\n",
       "                     2001     1.620833\n",
       "                     2002     1.620833\n",
       "                     2003     2.318333\n",
       "                               ...    \n",
       "Uruguay              2006    20.675833\n",
       "                     2007    22.192500\n",
       "                     2008    19.544167\n",
       "                     2009    19.812500\n",
       "                     2010    21.452500\n",
       "                     2012    22.029167\n",
       "                     2013    20.757500\n",
       "                     2014    20.720000\n",
       "                     2015    22.501667\n",
       "Uzbekistan           1991    10.348333\n",
       "                     1992     9.274167\n",
       "                     1993     9.313333\n",
       "                     1994     9.237500\n",
       "                     1995     9.275000\n",
       "                     1996    10.421667\n",
       "                     1997     9.215000\n",
       "                     1998     9.025000\n",
       "                     1999     9.444167\n",
       "                     2000    10.025833\n",
       "                     2001     9.660000\n",
       "                     2002     7.940000\n",
       "                     2003     6.838333\n",
       "                     2004     5.670000\n",
       "                     2005     5.650833\n",
       "                     2009     5.071667\n",
       "                     2010     5.269167\n",
       "                     2011     5.595000\n",
       "                     2012     6.460833\n",
       "                     2013     6.571667\n",
       "                     2014     7.093333\n",
       "Name: suicides/100k pop, Length: 1772, dtype: float64"
      ]
     },
     "execution_count": 53,
     "metadata": {},
     "output_type": "execute_result"
    }
   ],
   "source": [
    "suicides_percountry"
   ]
  },
  {
   "cell_type": "markdown",
   "metadata": {},
   "source": [
    "# Top 10 Countries With the Highest Numbers of Suicides"
   ]
  },
  {
   "cell_type": "code",
   "execution_count": 54,
   "metadata": {},
   "outputs": [
    {
     "data": {
      "text/plain": [
       "<matplotlib.axes._subplots.AxesSubplot at 0x124e390f0>"
      ]
     },
     "execution_count": 54,
     "metadata": {},
     "output_type": "execute_result"
    },
    {
     "data": {
      "image/png": "[encoded data removed]",
      "text/plain": [
       "<Figure size 1008x576 with 1 Axes>"
      ]
     },
     "metadata": {},
     "output_type": "display_data"
    }
   ],
   "source": [
    "suicide_num_percountry = df_filtered2.groupby('country')['suicides_no'].sum().to_frame().sort_values(by='suicides_no', ascending=False)\n",
    "suicide_num_percountry[:10].plot(kind='bar',figsize=(14,8),title='Number of Suicides per Country Top 10')\n"
   ]
  },
  {
   "cell_type": "markdown",
   "metadata": {},
   "source": [
    "# Top 10 countries with the highest suicide rate"
   ]
  },
  {
   "cell_type": "code",
   "execution_count": 55,
   "metadata": {},
   "outputs": [
    {
     "data": {
      "text/plain": [
       "<matplotlib.axes._subplots.AxesSubplot at 0x124a47dd8>"
      ]
     },
     "execution_count": 55,
     "metadata": {},
     "output_type": "execute_result"
    },
    {
     "data": {
      "image/png": "[encoded data removed]",
      "text/plain": [
       "<Figure size 1008x576 with 1 Axes>"
      ]
     },
     "metadata": {},
     "output_type": "display_data"
    }
   ],
   "source": [
    "suicides_percountry2 = df_filtered2.groupby('country')['suicides/100k pop'].mean().to_frame().sort_values(by='suicides/100k pop', ascending=False)\n",
    "suicides_percountry2[:10].plot(kind='bar',figsize=(14,8),title='Suicide Rate per Country Top 10')\n"
   ]
  },
  {
   "cell_type": "markdown",
   "metadata": {},
   "source": [
    "# Countries with the lowest numbers of suicides"
   ]
  },
  {
   "cell_type": "code",
   "execution_count": 56,
   "metadata": {},
   "outputs": [
    {
     "data": {
      "text/plain": [
       "<matplotlib.axes._subplots.AxesSubplot at 0x124803d68>"
      ]
     },
     "execution_count": 56,
     "metadata": {},
     "output_type": "execute_result"
    },
    {
     "data": {
      "image/png": "[encoded data removed]",
      "text/plain": [
       "<Figure size 1008x576 with 1 Axes>"
      ]
     },
     "metadata": {},
     "output_type": "display_data"
    }
   ],
   "source": [
    "suicide_num_percountry2 = df_filtered2.groupby('country')['suicides_no'].sum().to_frame().sort_values(by='suicides_no')\n",
    "suicide_num_percountry2[:10].plot(kind='bar',figsize=(14,8),title='Number of Suicides per Country Last 10')\n"
   ]
  },
  {
   "cell_type": "markdown",
   "metadata": {},
   "source": [
    "# 10 Countries with the lowest Suicide Rate"
   ]
  },
  {
   "cell_type": "code",
   "execution_count": 57,
   "metadata": {},
   "outputs": [
    {
     "data": {
      "text/plain": [
       "<matplotlib.axes._subplots.AxesSubplot at 0x123c680f0>"
      ]
     },
     "execution_count": 57,
     "metadata": {},
     "output_type": "execute_result"
    },
    {
     "data": {
      "image/png": "[encoded data removed]",
      "text/plain": [
       "<Figure size 1008x576 with 1 Axes>"
      ]
     },
     "metadata": {},
     "output_type": "display_data"
    }
   ],
   "source": [
    "suicides_percountry3 = df_filtered2.groupby('country')['suicides/100k pop'].mean().to_frame().sort_values(by='suicides/100k pop')\n",
    "suicides_percountry3[:10].plot(kind='bar',figsize=(14,8),title='Countries with the Lowest Suicide Rate')\n"
   ]
  },
  {
   "cell_type": "markdown",
   "metadata": {},
   "source": [
    "## Top 10 Countries: Suicide Rate by Age"
   ]
  },
  {
   "cell_type": "markdown",
   "metadata": {},
   "source": [
    "### Extracting Top 10 Countries"
   ]
  },
  {
   "cell_type": "code",
   "execution_count": 58,
   "metadata": {},
   "outputs": [
    {
     "data": {
      "text/html": [
       "<div>\n",
       "<style scoped>\n",
       "    .dataframe tbody tr th:only-of-type {\n",
       "        vertical-align: middle;\n",
       "    }\n",
       "\n",
       "    .dataframe tbody tr th {\n",
       "        vertical-align: top;\n",
       "    }\n",
       "\n",
       "    .dataframe thead th {\n",
       "        text-align: right;\n",
       "    }\n",
       "</style>\n",
       "<table border=\"1\" class=\"dataframe\">\n",
       "  <thead>\n",
       "    <tr style=\"text-align: right;\">\n",
       "      <th></th>\n",
       "      <th>country</th>\n",
       "      <th>year</th>\n",
       "      <th>sex</th>\n",
       "      <th>age</th>\n",
       "      <th>suicides_no</th>\n",
       "      <th>population</th>\n",
       "      <th>suicides/100k pop</th>\n",
       "      <th>country-year</th>\n",
       "      <th>HDI for year</th>\n",
       "      <th>gdp_for_year ($)</th>\n",
       "      <th>gdp_per_capita ($)</th>\n",
       "      <th>generation</th>\n",
       "    </tr>\n",
       "  </thead>\n",
       "  <tbody>\n",
       "    <tr>\n",
       "      <th>15044</th>\n",
       "      <td>Lithuania</td>\n",
       "      <td>1995</td>\n",
       "      <td>male</td>\n",
       "      <td>35-54 years</td>\n",
       "      <td>632</td>\n",
       "      <td>436306</td>\n",
       "      <td>144.85</td>\n",
       "      <td>Lithuania1995</td>\n",
       "      <td>0.701</td>\n",
       "      <td>7,870,782,261</td>\n",
       "      <td>2324</td>\n",
       "      <td>Boomers</td>\n",
       "    </tr>\n",
       "    <tr>\n",
       "      <th>15045</th>\n",
       "      <td>Lithuania</td>\n",
       "      <td>1995</td>\n",
       "      <td>male</td>\n",
       "      <td>75+ years</td>\n",
       "      <td>67</td>\n",
       "      <td>47214</td>\n",
       "      <td>141.91</td>\n",
       "      <td>Lithuania1995</td>\n",
       "      <td>0.701</td>\n",
       "      <td>7,870,782,261</td>\n",
       "      <td>2324</td>\n",
       "      <td>G.I. Generation</td>\n",
       "    </tr>\n",
       "    <tr>\n",
       "      <th>15046</th>\n",
       "      <td>Lithuania</td>\n",
       "      <td>1995</td>\n",
       "      <td>male</td>\n",
       "      <td>55-74 years</td>\n",
       "      <td>325</td>\n",
       "      <td>274196</td>\n",
       "      <td>118.53</td>\n",
       "      <td>Lithuania1995</td>\n",
       "      <td>0.701</td>\n",
       "      <td>7,870,782,261</td>\n",
       "      <td>2324</td>\n",
       "      <td>Silent</td>\n",
       "    </tr>\n",
       "    <tr>\n",
       "      <th>15047</th>\n",
       "      <td>Lithuania</td>\n",
       "      <td>1995</td>\n",
       "      <td>male</td>\n",
       "      <td>25-34 years</td>\n",
       "      <td>226</td>\n",
       "      <td>284758</td>\n",
       "      <td>79.37</td>\n",
       "      <td>Lithuania1995</td>\n",
       "      <td>0.701</td>\n",
       "      <td>7,870,782,261</td>\n",
       "      <td>2324</td>\n",
       "      <td>Generation X</td>\n",
       "    </tr>\n",
       "    <tr>\n",
       "      <th>15048</th>\n",
       "      <td>Lithuania</td>\n",
       "      <td>1995</td>\n",
       "      <td>male</td>\n",
       "      <td>15-24 years</td>\n",
       "      <td>134</td>\n",
       "      <td>263792</td>\n",
       "      <td>50.80</td>\n",
       "      <td>Lithuania1995</td>\n",
       "      <td>0.701</td>\n",
       "      <td>7,870,782,261</td>\n",
       "      <td>2324</td>\n",
       "      <td>Generation X</td>\n",
       "    </tr>\n",
       "    <tr>\n",
       "      <th>15049</th>\n",
       "      <td>Lithuania</td>\n",
       "      <td>1995</td>\n",
       "      <td>female</td>\n",
       "      <td>75+ years</td>\n",
       "      <td>37</td>\n",
       "      <td>109609</td>\n",
       "      <td>33.76</td>\n",
       "      <td>Lithuania1995</td>\n",
       "      <td>0.701</td>\n",
       "      <td>7,870,782,261</td>\n",
       "      <td>2324</td>\n",
       "      <td>G.I. Generation</td>\n",
       "    </tr>\n",
       "    <tr>\n",
       "      <th>15050</th>\n",
       "      <td>Lithuania</td>\n",
       "      <td>1995</td>\n",
       "      <td>female</td>\n",
       "      <td>55-74 years</td>\n",
       "      <td>101</td>\n",
       "      <td>408926</td>\n",
       "      <td>24.70</td>\n",
       "      <td>Lithuania1995</td>\n",
       "      <td>0.701</td>\n",
       "      <td>7,870,782,261</td>\n",
       "      <td>2324</td>\n",
       "      <td>Silent</td>\n",
       "    </tr>\n",
       "    <tr>\n",
       "      <th>15051</th>\n",
       "      <td>Lithuania</td>\n",
       "      <td>1995</td>\n",
       "      <td>female</td>\n",
       "      <td>35-54 years</td>\n",
       "      <td>113</td>\n",
       "      <td>481445</td>\n",
       "      <td>23.47</td>\n",
       "      <td>Lithuania1995</td>\n",
       "      <td>0.701</td>\n",
       "      <td>7,870,782,261</td>\n",
       "      <td>2324</td>\n",
       "      <td>Boomers</td>\n",
       "    </tr>\n",
       "    <tr>\n",
       "      <th>15052</th>\n",
       "      <td>Lithuania</td>\n",
       "      <td>1995</td>\n",
       "      <td>female</td>\n",
       "      <td>25-34 years</td>\n",
       "      <td>33</td>\n",
       "      <td>276055</td>\n",
       "      <td>11.95</td>\n",
       "      <td>Lithuania1995</td>\n",
       "      <td>0.701</td>\n",
       "      <td>7,870,782,261</td>\n",
       "      <td>2324</td>\n",
       "      <td>Generation X</td>\n",
       "    </tr>\n",
       "    <tr>\n",
       "      <th>15053</th>\n",
       "      <td>Lithuania</td>\n",
       "      <td>1995</td>\n",
       "      <td>female</td>\n",
       "      <td>15-24 years</td>\n",
       "      <td>20</td>\n",
       "      <td>256623</td>\n",
       "      <td>7.79</td>\n",
       "      <td>Lithuania1995</td>\n",
       "      <td>0.701</td>\n",
       "      <td>7,870,782,261</td>\n",
       "      <td>2324</td>\n",
       "      <td>Generation X</td>\n",
       "    </tr>\n",
       "    <tr>\n",
       "      <th>15054</th>\n",
       "      <td>Lithuania</td>\n",
       "      <td>1995</td>\n",
       "      <td>male</td>\n",
       "      <td>5-14 years</td>\n",
       "      <td>4</td>\n",
       "      <td>279260</td>\n",
       "      <td>1.43</td>\n",
       "      <td>Lithuania1995</td>\n",
       "      <td>0.701</td>\n",
       "      <td>7,870,782,261</td>\n",
       "      <td>2324</td>\n",
       "      <td>Millenials</td>\n",
       "    </tr>\n",
       "    <tr>\n",
       "      <th>15055</th>\n",
       "      <td>Lithuania</td>\n",
       "      <td>1995</td>\n",
       "      <td>female</td>\n",
       "      <td>5-14 years</td>\n",
       "      <td>2</td>\n",
       "      <td>268965</td>\n",
       "      <td>0.74</td>\n",
       "      <td>Lithuania1995</td>\n",
       "      <td>0.701</td>\n",
       "      <td>7,870,782,261</td>\n",
       "      <td>2324</td>\n",
       "      <td>Millenials</td>\n",
       "    </tr>\n",
       "    <tr>\n",
       "      <th>15056</th>\n",
       "      <td>Lithuania</td>\n",
       "      <td>1996</td>\n",
       "      <td>male</td>\n",
       "      <td>35-54 years</td>\n",
       "      <td>664</td>\n",
       "      <td>438770</td>\n",
       "      <td>151.33</td>\n",
       "      <td>Lithuania1996</td>\n",
       "      <td>NaN</td>\n",
       "      <td>8,385,109,020</td>\n",
       "      <td>2484</td>\n",
       "      <td>Boomers</td>\n",
       "    </tr>\n",
       "    <tr>\n",
       "      <th>15057</th>\n",
       "      <td>Lithuania</td>\n",
       "      <td>1996</td>\n",
       "      <td>male</td>\n",
       "      <td>55-74 years</td>\n",
       "      <td>336</td>\n",
       "      <td>275843</td>\n",
       "      <td>121.81</td>\n",
       "      <td>Lithuania1996</td>\n",
       "      <td>NaN</td>\n",
       "      <td>8,385,109,020</td>\n",
       "      <td>2484</td>\n",
       "      <td>Silent</td>\n",
       "    </tr>\n",
       "    <tr>\n",
       "      <th>15058</th>\n",
       "      <td>Lithuania</td>\n",
       "      <td>1996</td>\n",
       "      <td>male</td>\n",
       "      <td>75+ years</td>\n",
       "      <td>40</td>\n",
       "      <td>47319</td>\n",
       "      <td>84.53</td>\n",
       "      <td>Lithuania1996</td>\n",
       "      <td>NaN</td>\n",
       "      <td>8,385,109,020</td>\n",
       "      <td>2484</td>\n",
       "      <td>G.I. Generation</td>\n",
       "    </tr>\n",
       "    <tr>\n",
       "      <th>15059</th>\n",
       "      <td>Lithuania</td>\n",
       "      <td>1996</td>\n",
       "      <td>male</td>\n",
       "      <td>25-34 years</td>\n",
       "      <td>196</td>\n",
       "      <td>278848</td>\n",
       "      <td>70.29</td>\n",
       "      <td>Lithuania1996</td>\n",
       "      <td>NaN</td>\n",
       "      <td>8,385,109,020</td>\n",
       "      <td>2484</td>\n",
       "      <td>Generation X</td>\n",
       "    </tr>\n",
       "    <tr>\n",
       "      <th>15060</th>\n",
       "      <td>Lithuania</td>\n",
       "      <td>1996</td>\n",
       "      <td>male</td>\n",
       "      <td>15-24 years</td>\n",
       "      <td>147</td>\n",
       "      <td>257675</td>\n",
       "      <td>57.05</td>\n",
       "      <td>Lithuania1996</td>\n",
       "      <td>NaN</td>\n",
       "      <td>8,385,109,020</td>\n",
       "      <td>2484</td>\n",
       "      <td>Generation X</td>\n",
       "    </tr>\n",
       "    <tr>\n",
       "      <th>15061</th>\n",
       "      <td>Lithuania</td>\n",
       "      <td>1996</td>\n",
       "      <td>female</td>\n",
       "      <td>75+ years</td>\n",
       "      <td>39</td>\n",
       "      <td>110913</td>\n",
       "      <td>35.16</td>\n",
       "      <td>Lithuania1996</td>\n",
       "      <td>NaN</td>\n",
       "      <td>8,385,109,020</td>\n",
       "      <td>2484</td>\n",
       "      <td>G.I. Generation</td>\n",
       "    </tr>\n",
       "    <tr>\n",
       "      <th>15062</th>\n",
       "      <td>Lithuania</td>\n",
       "      <td>1996</td>\n",
       "      <td>female</td>\n",
       "      <td>55-74 years</td>\n",
       "      <td>118</td>\n",
       "      <td>410808</td>\n",
       "      <td>28.72</td>\n",
       "      <td>Lithuania1996</td>\n",
       "      <td>NaN</td>\n",
       "      <td>8,385,109,020</td>\n",
       "      <td>2484</td>\n",
       "      <td>Silent</td>\n",
       "    </tr>\n",
       "    <tr>\n",
       "      <th>15063</th>\n",
       "      <td>Lithuania</td>\n",
       "      <td>1996</td>\n",
       "      <td>female</td>\n",
       "      <td>35-54 years</td>\n",
       "      <td>129</td>\n",
       "      <td>484132</td>\n",
       "      <td>26.65</td>\n",
       "      <td>Lithuania1996</td>\n",
       "      <td>NaN</td>\n",
       "      <td>8,385,109,020</td>\n",
       "      <td>2484</td>\n",
       "      <td>Boomers</td>\n",
       "    </tr>\n",
       "    <tr>\n",
       "      <th>15064</th>\n",
       "      <td>Lithuania</td>\n",
       "      <td>1996</td>\n",
       "      <td>female</td>\n",
       "      <td>25-34 years</td>\n",
       "      <td>27</td>\n",
       "      <td>271013</td>\n",
       "      <td>9.96</td>\n",
       "      <td>Lithuania1996</td>\n",
       "      <td>NaN</td>\n",
       "      <td>8,385,109,020</td>\n",
       "      <td>2484</td>\n",
       "      <td>Generation X</td>\n",
       "    </tr>\n",
       "    <tr>\n",
       "      <th>15065</th>\n",
       "      <td>Lithuania</td>\n",
       "      <td>1996</td>\n",
       "      <td>female</td>\n",
       "      <td>15-24 years</td>\n",
       "      <td>20</td>\n",
       "      <td>251718</td>\n",
       "      <td>7.95</td>\n",
       "      <td>Lithuania1996</td>\n",
       "      <td>NaN</td>\n",
       "      <td>8,385,109,020</td>\n",
       "      <td>2484</td>\n",
       "      <td>Generation X</td>\n",
       "    </tr>\n",
       "    <tr>\n",
       "      <th>15066</th>\n",
       "      <td>Lithuania</td>\n",
       "      <td>1996</td>\n",
       "      <td>male</td>\n",
       "      <td>5-14 years</td>\n",
       "      <td>5</td>\n",
       "      <td>279323</td>\n",
       "      <td>1.79</td>\n",
       "      <td>Lithuania1996</td>\n",
       "      <td>NaN</td>\n",
       "      <td>8,385,109,020</td>\n",
       "      <td>2484</td>\n",
       "      <td>Millenials</td>\n",
       "    </tr>\n",
       "    <tr>\n",
       "      <th>15067</th>\n",
       "      <td>Lithuania</td>\n",
       "      <td>1996</td>\n",
       "      <td>female</td>\n",
       "      <td>5-14 years</td>\n",
       "      <td>1</td>\n",
       "      <td>268801</td>\n",
       "      <td>0.37</td>\n",
       "      <td>Lithuania1996</td>\n",
       "      <td>NaN</td>\n",
       "      <td>8,385,109,020</td>\n",
       "      <td>2484</td>\n",
       "      <td>Millenials</td>\n",
       "    </tr>\n",
       "    <tr>\n",
       "      <th>15068</th>\n",
       "      <td>Lithuania</td>\n",
       "      <td>1997</td>\n",
       "      <td>male</td>\n",
       "      <td>35-54 years</td>\n",
       "      <td>637</td>\n",
       "      <td>440546</td>\n",
       "      <td>144.59</td>\n",
       "      <td>Lithuania1997</td>\n",
       "      <td>NaN</td>\n",
       "      <td>10,120,274,493</td>\n",
       "      <td>3008</td>\n",
       "      <td>Boomers</td>\n",
       "    </tr>\n",
       "    <tr>\n",
       "      <th>15069</th>\n",
       "      <td>Lithuania</td>\n",
       "      <td>1997</td>\n",
       "      <td>male</td>\n",
       "      <td>55-74 years</td>\n",
       "      <td>294</td>\n",
       "      <td>277983</td>\n",
       "      <td>105.76</td>\n",
       "      <td>Lithuania1997</td>\n",
       "      <td>NaN</td>\n",
       "      <td>10,120,274,493</td>\n",
       "      <td>3008</td>\n",
       "      <td>Silent</td>\n",
       "    </tr>\n",
       "    <tr>\n",
       "      <th>15070</th>\n",
       "      <td>Lithuania</td>\n",
       "      <td>1997</td>\n",
       "      <td>male</td>\n",
       "      <td>25-34 years</td>\n",
       "      <td>231</td>\n",
       "      <td>272292</td>\n",
       "      <td>84.84</td>\n",
       "      <td>Lithuania1997</td>\n",
       "      <td>NaN</td>\n",
       "      <td>10,120,274,493</td>\n",
       "      <td>3008</td>\n",
       "      <td>Generation X</td>\n",
       "    </tr>\n",
       "    <tr>\n",
       "      <th>15071</th>\n",
       "      <td>Lithuania</td>\n",
       "      <td>1997</td>\n",
       "      <td>male</td>\n",
       "      <td>75+ years</td>\n",
       "      <td>39</td>\n",
       "      <td>47892</td>\n",
       "      <td>81.43</td>\n",
       "      <td>Lithuania1997</td>\n",
       "      <td>NaN</td>\n",
       "      <td>10,120,274,493</td>\n",
       "      <td>3008</td>\n",
       "      <td>G.I. Generation</td>\n",
       "    </tr>\n",
       "    <tr>\n",
       "      <th>15072</th>\n",
       "      <td>Lithuania</td>\n",
       "      <td>1997</td>\n",
       "      <td>male</td>\n",
       "      <td>15-24 years</td>\n",
       "      <td>144</td>\n",
       "      <td>252818</td>\n",
       "      <td>56.96</td>\n",
       "      <td>Lithuania1997</td>\n",
       "      <td>NaN</td>\n",
       "      <td>10,120,274,493</td>\n",
       "      <td>3008</td>\n",
       "      <td>Generation X</td>\n",
       "    </tr>\n",
       "    <tr>\n",
       "      <th>15073</th>\n",
       "      <td>Lithuania</td>\n",
       "      <td>1997</td>\n",
       "      <td>female</td>\n",
       "      <td>75+ years</td>\n",
       "      <td>29</td>\n",
       "      <td>113485</td>\n",
       "      <td>25.55</td>\n",
       "      <td>Lithuania1997</td>\n",
       "      <td>NaN</td>\n",
       "      <td>10,120,274,493</td>\n",
       "      <td>3008</td>\n",
       "      <td>G.I. Generation</td>\n",
       "    </tr>\n",
       "    <tr>\n",
       "      <th>...</th>\n",
       "      <td>...</td>\n",
       "      <td>...</td>\n",
       "      <td>...</td>\n",
       "      <td>...</td>\n",
       "      <td>...</td>\n",
       "      <td>...</td>\n",
       "      <td>...</td>\n",
       "      <td>...</td>\n",
       "      <td>...</td>\n",
       "      <td>...</td>\n",
       "      <td>...</td>\n",
       "      <td>...</td>\n",
       "    </tr>\n",
       "    <tr>\n",
       "      <th>26374</th>\n",
       "      <td>Ukraine</td>\n",
       "      <td>2012</td>\n",
       "      <td>female</td>\n",
       "      <td>55-74 years</td>\n",
       "      <td>524</td>\n",
       "      <td>5852504</td>\n",
       "      <td>8.95</td>\n",
       "      <td>Ukraine2012</td>\n",
       "      <td>0.743</td>\n",
       "      <td>175,781,379,051</td>\n",
       "      <td>4096</td>\n",
       "      <td>Boomers</td>\n",
       "    </tr>\n",
       "    <tr>\n",
       "      <th>26375</th>\n",
       "      <td>Ukraine</td>\n",
       "      <td>2012</td>\n",
       "      <td>female</td>\n",
       "      <td>35-54 years</td>\n",
       "      <td>494</td>\n",
       "      <td>6837697</td>\n",
       "      <td>7.22</td>\n",
       "      <td>Ukraine2012</td>\n",
       "      <td>0.743</td>\n",
       "      <td>175,781,379,051</td>\n",
       "      <td>4096</td>\n",
       "      <td>Generation X</td>\n",
       "    </tr>\n",
       "    <tr>\n",
       "      <th>26376</th>\n",
       "      <td>Ukraine</td>\n",
       "      <td>2012</td>\n",
       "      <td>female</td>\n",
       "      <td>25-34 years</td>\n",
       "      <td>186</td>\n",
       "      <td>3607893</td>\n",
       "      <td>5.16</td>\n",
       "      <td>Ukraine2012</td>\n",
       "      <td>0.743</td>\n",
       "      <td>175,781,379,051</td>\n",
       "      <td>4096</td>\n",
       "      <td>Millenials</td>\n",
       "    </tr>\n",
       "    <tr>\n",
       "      <th>26377</th>\n",
       "      <td>Ukraine</td>\n",
       "      <td>2012</td>\n",
       "      <td>female</td>\n",
       "      <td>15-24 years</td>\n",
       "      <td>126</td>\n",
       "      <td>2819749</td>\n",
       "      <td>4.47</td>\n",
       "      <td>Ukraine2012</td>\n",
       "      <td>0.743</td>\n",
       "      <td>175,781,379,051</td>\n",
       "      <td>4096</td>\n",
       "      <td>Millenials</td>\n",
       "    </tr>\n",
       "    <tr>\n",
       "      <th>26378</th>\n",
       "      <td>Ukraine</td>\n",
       "      <td>2012</td>\n",
       "      <td>male</td>\n",
       "      <td>5-14 years</td>\n",
       "      <td>35</td>\n",
       "      <td>2094456</td>\n",
       "      <td>1.67</td>\n",
       "      <td>Ukraine2012</td>\n",
       "      <td>0.743</td>\n",
       "      <td>175,781,379,051</td>\n",
       "      <td>4096</td>\n",
       "      <td>Generation Z</td>\n",
       "    </tr>\n",
       "    <tr>\n",
       "      <th>26379</th>\n",
       "      <td>Ukraine</td>\n",
       "      <td>2012</td>\n",
       "      <td>female</td>\n",
       "      <td>5-14 years</td>\n",
       "      <td>20</td>\n",
       "      <td>1984557</td>\n",
       "      <td>1.01</td>\n",
       "      <td>Ukraine2012</td>\n",
       "      <td>0.743</td>\n",
       "      <td>175,781,379,051</td>\n",
       "      <td>4096</td>\n",
       "      <td>Generation Z</td>\n",
       "    </tr>\n",
       "    <tr>\n",
       "      <th>26380</th>\n",
       "      <td>Ukraine</td>\n",
       "      <td>2014</td>\n",
       "      <td>male</td>\n",
       "      <td>75+ years</td>\n",
       "      <td>608</td>\n",
       "      <td>919141</td>\n",
       "      <td>66.15</td>\n",
       "      <td>Ukraine2014</td>\n",
       "      <td>0.747</td>\n",
       "      <td>133,503,411,376</td>\n",
       "      <td>3299</td>\n",
       "      <td>Silent</td>\n",
       "    </tr>\n",
       "    <tr>\n",
       "      <th>26381</th>\n",
       "      <td>Ukraine</td>\n",
       "      <td>2014</td>\n",
       "      <td>male</td>\n",
       "      <td>55-74 years</td>\n",
       "      <td>1558</td>\n",
       "      <td>3702856</td>\n",
       "      <td>42.08</td>\n",
       "      <td>Ukraine2014</td>\n",
       "      <td>0.747</td>\n",
       "      <td>133,503,411,376</td>\n",
       "      <td>3299</td>\n",
       "      <td>Boomers</td>\n",
       "    </tr>\n",
       "    <tr>\n",
       "      <th>26382</th>\n",
       "      <td>Ukraine</td>\n",
       "      <td>2014</td>\n",
       "      <td>male</td>\n",
       "      <td>35-54 years</td>\n",
       "      <td>2363</td>\n",
       "      <td>5814873</td>\n",
       "      <td>40.64</td>\n",
       "      <td>Ukraine2014</td>\n",
       "      <td>0.747</td>\n",
       "      <td>133,503,411,376</td>\n",
       "      <td>3299</td>\n",
       "      <td>Generation X</td>\n",
       "    </tr>\n",
       "    <tr>\n",
       "      <th>26383</th>\n",
       "      <td>Ukraine</td>\n",
       "      <td>2014</td>\n",
       "      <td>male</td>\n",
       "      <td>25-34 years</td>\n",
       "      <td>1302</td>\n",
       "      <td>3543016</td>\n",
       "      <td>36.75</td>\n",
       "      <td>Ukraine2014</td>\n",
       "      <td>0.747</td>\n",
       "      <td>133,503,411,376</td>\n",
       "      <td>3299</td>\n",
       "      <td>Millenials</td>\n",
       "    </tr>\n",
       "    <tr>\n",
       "      <th>26384</th>\n",
       "      <td>Ukraine</td>\n",
       "      <td>2014</td>\n",
       "      <td>male</td>\n",
       "      <td>15-24 years</td>\n",
       "      <td>560</td>\n",
       "      <td>2541203</td>\n",
       "      <td>22.04</td>\n",
       "      <td>Ukraine2014</td>\n",
       "      <td>0.747</td>\n",
       "      <td>133,503,411,376</td>\n",
       "      <td>3299</td>\n",
       "      <td>Millenials</td>\n",
       "    </tr>\n",
       "    <tr>\n",
       "      <th>26385</th>\n",
       "      <td>Ukraine</td>\n",
       "      <td>2014</td>\n",
       "      <td>female</td>\n",
       "      <td>75+ years</td>\n",
       "      <td>339</td>\n",
       "      <td>2203221</td>\n",
       "      <td>15.39</td>\n",
       "      <td>Ukraine2014</td>\n",
       "      <td>0.747</td>\n",
       "      <td>133,503,411,376</td>\n",
       "      <td>3299</td>\n",
       "      <td>Silent</td>\n",
       "    </tr>\n",
       "    <tr>\n",
       "      <th>26386</th>\n",
       "      <td>Ukraine</td>\n",
       "      <td>2014</td>\n",
       "      <td>female</td>\n",
       "      <td>55-74 years</td>\n",
       "      <td>465</td>\n",
       "      <td>5487093</td>\n",
       "      <td>8.47</td>\n",
       "      <td>Ukraine2014</td>\n",
       "      <td>0.747</td>\n",
       "      <td>133,503,411,376</td>\n",
       "      <td>3299</td>\n",
       "      <td>Boomers</td>\n",
       "    </tr>\n",
       "    <tr>\n",
       "      <th>26387</th>\n",
       "      <td>Ukraine</td>\n",
       "      <td>2014</td>\n",
       "      <td>female</td>\n",
       "      <td>35-54 years</td>\n",
       "      <td>423</td>\n",
       "      <td>6365806</td>\n",
       "      <td>6.64</td>\n",
       "      <td>Ukraine2014</td>\n",
       "      <td>0.747</td>\n",
       "      <td>133,503,411,376</td>\n",
       "      <td>3299</td>\n",
       "      <td>Generation X</td>\n",
       "    </tr>\n",
       "    <tr>\n",
       "      <th>26388</th>\n",
       "      <td>Ukraine</td>\n",
       "      <td>2014</td>\n",
       "      <td>female</td>\n",
       "      <td>25-34 years</td>\n",
       "      <td>197</td>\n",
       "      <td>3444110</td>\n",
       "      <td>5.72</td>\n",
       "      <td>Ukraine2014</td>\n",
       "      <td>0.747</td>\n",
       "      <td>133,503,411,376</td>\n",
       "      <td>3299</td>\n",
       "      <td>Millenials</td>\n",
       "    </tr>\n",
       "    <tr>\n",
       "      <th>26389</th>\n",
       "      <td>Ukraine</td>\n",
       "      <td>2014</td>\n",
       "      <td>female</td>\n",
       "      <td>15-24 years</td>\n",
       "      <td>118</td>\n",
       "      <td>2408666</td>\n",
       "      <td>4.90</td>\n",
       "      <td>Ukraine2014</td>\n",
       "      <td>0.747</td>\n",
       "      <td>133,503,411,376</td>\n",
       "      <td>3299</td>\n",
       "      <td>Millenials</td>\n",
       "    </tr>\n",
       "    <tr>\n",
       "      <th>26390</th>\n",
       "      <td>Ukraine</td>\n",
       "      <td>2014</td>\n",
       "      <td>male</td>\n",
       "      <td>5-14 years</td>\n",
       "      <td>21</td>\n",
       "      <td>2074827</td>\n",
       "      <td>1.01</td>\n",
       "      <td>Ukraine2014</td>\n",
       "      <td>0.747</td>\n",
       "      <td>133,503,411,376</td>\n",
       "      <td>3299</td>\n",
       "      <td>Generation Z</td>\n",
       "    </tr>\n",
       "    <tr>\n",
       "      <th>26391</th>\n",
       "      <td>Ukraine</td>\n",
       "      <td>2014</td>\n",
       "      <td>female</td>\n",
       "      <td>5-14 years</td>\n",
       "      <td>14</td>\n",
       "      <td>1959353</td>\n",
       "      <td>0.71</td>\n",
       "      <td>Ukraine2014</td>\n",
       "      <td>0.747</td>\n",
       "      <td>133,503,411,376</td>\n",
       "      <td>3299</td>\n",
       "      <td>Generation Z</td>\n",
       "    </tr>\n",
       "    <tr>\n",
       "      <th>26392</th>\n",
       "      <td>Ukraine</td>\n",
       "      <td>2015</td>\n",
       "      <td>male</td>\n",
       "      <td>75+ years</td>\n",
       "      <td>669</td>\n",
       "      <td>942786</td>\n",
       "      <td>70.96</td>\n",
       "      <td>Ukraine2015</td>\n",
       "      <td>NaN</td>\n",
       "      <td>91,030,959,455</td>\n",
       "      <td>2256</td>\n",
       "      <td>Silent</td>\n",
       "    </tr>\n",
       "    <tr>\n",
       "      <th>26393</th>\n",
       "      <td>Ukraine</td>\n",
       "      <td>2015</td>\n",
       "      <td>male</td>\n",
       "      <td>55-74 years</td>\n",
       "      <td>1644</td>\n",
       "      <td>3747724</td>\n",
       "      <td>43.87</td>\n",
       "      <td>Ukraine2015</td>\n",
       "      <td>NaN</td>\n",
       "      <td>91,030,959,455</td>\n",
       "      <td>2256</td>\n",
       "      <td>Boomers</td>\n",
       "    </tr>\n",
       "    <tr>\n",
       "      <th>26394</th>\n",
       "      <td>Ukraine</td>\n",
       "      <td>2015</td>\n",
       "      <td>male</td>\n",
       "      <td>35-54 years</td>\n",
       "      <td>2181</td>\n",
       "      <td>5795334</td>\n",
       "      <td>37.63</td>\n",
       "      <td>Ukraine2015</td>\n",
       "      <td>NaN</td>\n",
       "      <td>91,030,959,455</td>\n",
       "      <td>2256</td>\n",
       "      <td>Generation X</td>\n",
       "    </tr>\n",
       "    <tr>\n",
       "      <th>26395</th>\n",
       "      <td>Ukraine</td>\n",
       "      <td>2015</td>\n",
       "      <td>male</td>\n",
       "      <td>25-34 years</td>\n",
       "      <td>1114</td>\n",
       "      <td>3527229</td>\n",
       "      <td>31.58</td>\n",
       "      <td>Ukraine2015</td>\n",
       "      <td>NaN</td>\n",
       "      <td>91,030,959,455</td>\n",
       "      <td>2256</td>\n",
       "      <td>Millenials</td>\n",
       "    </tr>\n",
       "    <tr>\n",
       "      <th>26396</th>\n",
       "      <td>Ukraine</td>\n",
       "      <td>2015</td>\n",
       "      <td>male</td>\n",
       "      <td>15-24 years</td>\n",
       "      <td>507</td>\n",
       "      <td>2408074</td>\n",
       "      <td>21.05</td>\n",
       "      <td>Ukraine2015</td>\n",
       "      <td>NaN</td>\n",
       "      <td>91,030,959,455</td>\n",
       "      <td>2256</td>\n",
       "      <td>Millenials</td>\n",
       "    </tr>\n",
       "    <tr>\n",
       "      <th>26397</th>\n",
       "      <td>Ukraine</td>\n",
       "      <td>2015</td>\n",
       "      <td>female</td>\n",
       "      <td>75+ years</td>\n",
       "      <td>296</td>\n",
       "      <td>2261462</td>\n",
       "      <td>13.09</td>\n",
       "      <td>Ukraine2015</td>\n",
       "      <td>NaN</td>\n",
       "      <td>91,030,959,455</td>\n",
       "      <td>2256</td>\n",
       "      <td>Silent</td>\n",
       "    </tr>\n",
       "    <tr>\n",
       "      <th>26398</th>\n",
       "      <td>Ukraine</td>\n",
       "      <td>2015</td>\n",
       "      <td>female</td>\n",
       "      <td>55-74 years</td>\n",
       "      <td>399</td>\n",
       "      <td>5508376</td>\n",
       "      <td>7.24</td>\n",
       "      <td>Ukraine2015</td>\n",
       "      <td>NaN</td>\n",
       "      <td>91,030,959,455</td>\n",
       "      <td>2256</td>\n",
       "      <td>Boomers</td>\n",
       "    </tr>\n",
       "    <tr>\n",
       "      <th>26399</th>\n",
       "      <td>Ukraine</td>\n",
       "      <td>2015</td>\n",
       "      <td>female</td>\n",
       "      <td>35-54 years</td>\n",
       "      <td>427</td>\n",
       "      <td>6309963</td>\n",
       "      <td>6.77</td>\n",
       "      <td>Ukraine2015</td>\n",
       "      <td>NaN</td>\n",
       "      <td>91,030,959,455</td>\n",
       "      <td>2256</td>\n",
       "      <td>Generation X</td>\n",
       "    </tr>\n",
       "    <tr>\n",
       "      <th>26400</th>\n",
       "      <td>Ukraine</td>\n",
       "      <td>2015</td>\n",
       "      <td>female</td>\n",
       "      <td>15-24 years</td>\n",
       "      <td>117</td>\n",
       "      <td>2281055</td>\n",
       "      <td>5.13</td>\n",
       "      <td>Ukraine2015</td>\n",
       "      <td>NaN</td>\n",
       "      <td>91,030,959,455</td>\n",
       "      <td>2256</td>\n",
       "      <td>Millenials</td>\n",
       "    </tr>\n",
       "    <tr>\n",
       "      <th>26401</th>\n",
       "      <td>Ukraine</td>\n",
       "      <td>2015</td>\n",
       "      <td>female</td>\n",
       "      <td>25-34 years</td>\n",
       "      <td>168</td>\n",
       "      <td>3421535</td>\n",
       "      <td>4.91</td>\n",
       "      <td>Ukraine2015</td>\n",
       "      <td>NaN</td>\n",
       "      <td>91,030,959,455</td>\n",
       "      <td>2256</td>\n",
       "      <td>Millenials</td>\n",
       "    </tr>\n",
       "    <tr>\n",
       "      <th>26402</th>\n",
       "      <td>Ukraine</td>\n",
       "      <td>2015</td>\n",
       "      <td>male</td>\n",
       "      <td>5-14 years</td>\n",
       "      <td>33</td>\n",
       "      <td>2131084</td>\n",
       "      <td>1.55</td>\n",
       "      <td>Ukraine2015</td>\n",
       "      <td>NaN</td>\n",
       "      <td>91,030,959,455</td>\n",
       "      <td>2256</td>\n",
       "      <td>Generation Z</td>\n",
       "    </tr>\n",
       "    <tr>\n",
       "      <th>26403</th>\n",
       "      <td>Ukraine</td>\n",
       "      <td>2015</td>\n",
       "      <td>female</td>\n",
       "      <td>5-14 years</td>\n",
       "      <td>19</td>\n",
       "      <td>2010824</td>\n",
       "      <td>0.94</td>\n",
       "      <td>Ukraine2015</td>\n",
       "      <td>NaN</td>\n",
       "      <td>91,030,959,455</td>\n",
       "      <td>2256</td>\n",
       "      <td>Generation Z</td>\n",
       "    </tr>\n",
       "  </tbody>\n",
       "</table>\n",
       "<p>2736 rows × 12 columns</p>\n",
       "</div>"
      ],
      "text/plain": [
       "         country  year     sex          age  suicides_no  population  \\\n",
       "15044  Lithuania  1995    male  35-54 years          632      436306   \n",
       "15045  Lithuania  1995    male    75+ years           67       47214   \n",
       "15046  Lithuania  1995    male  55-74 years          325      274196   \n",
       "15047  Lithuania  1995    male  25-34 years          226      284758   \n",
       "15048  Lithuania  1995    male  15-24 years          134      263792   \n",
       "15049  Lithuania  1995  female    75+ years           37      109609   \n",
       "15050  Lithuania  1995  female  55-74 years          101      408926   \n",
       "15051  Lithuania  1995  female  35-54 years          113      481445   \n",
       "15052  Lithuania  1995  female  25-34 years           33      276055   \n",
       "15053  Lithuania  1995  female  15-24 years           20      256623   \n",
       "15054  Lithuania  1995    male   5-14 years            4      279260   \n",
       "15055  Lithuania  1995  female   5-14 years            2      268965   \n",
       "15056  Lithuania  1996    male  35-54 years          664      438770   \n",
       "15057  Lithuania  1996    male  55-74 years          336      275843   \n",
       "15058  Lithuania  1996    male    75+ years           40       47319   \n",
       "15059  Lithuania  1996    male  25-34 years          196      278848   \n",
       "15060  Lithuania  1996    male  15-24 years          147      257675   \n",
       "15061  Lithuania  1996  female    75+ years           39      110913   \n",
       "15062  Lithuania  1996  female  55-74 years          118      410808   \n",
       "15063  Lithuania  1996  female  35-54 years          129      484132   \n",
       "15064  Lithuania  1996  female  25-34 years           27      271013   \n",
       "15065  Lithuania  1996  female  15-24 years           20      251718   \n",
       "15066  Lithuania  1996    male   5-14 years            5      279323   \n",
       "15067  Lithuania  1996  female   5-14 years            1      268801   \n",
       "15068  Lithuania  1997    male  35-54 years          637      440546   \n",
       "15069  Lithuania  1997    male  55-74 years          294      277983   \n",
       "15070  Lithuania  1997    male  25-34 years          231      272292   \n",
       "15071  Lithuania  1997    male    75+ years           39       47892   \n",
       "15072  Lithuania  1997    male  15-24 years          144      252818   \n",
       "15073  Lithuania  1997  female    75+ years           29      113485   \n",
       "...          ...   ...     ...          ...          ...         ...   \n",
       "26374    Ukraine  2012  female  55-74 years          524     5852504   \n",
       "26375    Ukraine  2012  female  35-54 years          494     6837697   \n",
       "26376    Ukraine  2012  female  25-34 years          186     3607893   \n",
       "26377    Ukraine  2012  female  15-24 years          126     2819749   \n",
       "26378    Ukraine  2012    male   5-14 years           35     2094456   \n",
       "26379    Ukraine  2012  female   5-14 years           20     1984557   \n",
       "26380    Ukraine  2014    male    75+ years          608      919141   \n",
       "26381    Ukraine  2014    male  55-74 years         1558     3702856   \n",
       "26382    Ukraine  2014    male  35-54 years         2363     5814873   \n",
       "26383    Ukraine  2014    male  25-34 years         1302     3543016   \n",
       "26384    Ukraine  2014    male  15-24 years          560     2541203   \n",
       "26385    Ukraine  2014  female    75+ years          339     2203221   \n",
       "26386    Ukraine  2014  female  55-74 years          465     5487093   \n",
       "26387    Ukraine  2014  female  35-54 years          423     6365806   \n",
       "26388    Ukraine  2014  female  25-34 years          197     3444110   \n",
       "26389    Ukraine  2014  female  15-24 years          118     2408666   \n",
       "26390    Ukraine  2014    male   5-14 years           21     2074827   \n",
       "26391    Ukraine  2014  female   5-14 years           14     1959353   \n",
       "26392    Ukraine  2015    male    75+ years          669      942786   \n",
       "26393    Ukraine  2015    male  55-74 years         1644     3747724   \n",
       "26394    Ukraine  2015    male  35-54 years         2181     5795334   \n",
       "26395    Ukraine  2015    male  25-34 years         1114     3527229   \n",
       "26396    Ukraine  2015    male  15-24 years          507     2408074   \n",
       "26397    Ukraine  2015  female    75+ years          296     2261462   \n",
       "26398    Ukraine  2015  female  55-74 years          399     5508376   \n",
       "26399    Ukraine  2015  female  35-54 years          427     6309963   \n",
       "26400    Ukraine  2015  female  15-24 years          117     2281055   \n",
       "26401    Ukraine  2015  female  25-34 years          168     3421535   \n",
       "26402    Ukraine  2015    male   5-14 years           33     2131084   \n",
       "26403    Ukraine  2015  female   5-14 years           19     2010824   \n",
       "\n",
       "       suicides/100k pop   country-year  HDI for year  gdp_for_year ($)   \\\n",
       "15044             144.85  Lithuania1995         0.701      7,870,782,261   \n",
       "15045             141.91  Lithuania1995         0.701      7,870,782,261   \n",
       "15046             118.53  Lithuania1995         0.701      7,870,782,261   \n",
       "15047              79.37  Lithuania1995         0.701      7,870,782,261   \n",
       "15048              50.80  Lithuania1995         0.701      7,870,782,261   \n",
       "15049              33.76  Lithuania1995         0.701      7,870,782,261   \n",
       "15050              24.70  Lithuania1995         0.701      7,870,782,261   \n",
       "15051              23.47  Lithuania1995         0.701      7,870,782,261   \n",
       "15052              11.95  Lithuania1995         0.701      7,870,782,261   \n",
       "15053               7.79  Lithuania1995         0.701      7,870,782,261   \n",
       "15054               1.43  Lithuania1995         0.701      7,870,782,261   \n",
       "15055               0.74  Lithuania1995         0.701      7,870,782,261   \n",
       "15056             151.33  Lithuania1996           NaN      8,385,109,020   \n",
       "15057             121.81  Lithuania1996           NaN      8,385,109,020   \n",
       "15058              84.53  Lithuania1996           NaN      8,385,109,020   \n",
       "15059              70.29  Lithuania1996           NaN      8,385,109,020   \n",
       "15060              57.05  Lithuania1996           NaN      8,385,109,020   \n",
       "15061              35.16  Lithuania1996           NaN      8,385,109,020   \n",
       "15062              28.72  Lithuania1996           NaN      8,385,109,020   \n",
       "15063              26.65  Lithuania1996           NaN      8,385,109,020   \n",
       "15064               9.96  Lithuania1996           NaN      8,385,109,020   \n",
       "15065               7.95  Lithuania1996           NaN      8,385,109,020   \n",
       "15066               1.79  Lithuania1996           NaN      8,385,109,020   \n",
       "15067               0.37  Lithuania1996           NaN      8,385,109,020   \n",
       "15068             144.59  Lithuania1997           NaN     10,120,274,493   \n",
       "15069             105.76  Lithuania1997           NaN     10,120,274,493   \n",
       "15070              84.84  Lithuania1997           NaN     10,120,274,493   \n",
       "15071              81.43  Lithuania1997           NaN     10,120,274,493   \n",
       "15072              56.96  Lithuania1997           NaN     10,120,274,493   \n",
       "15073              25.55  Lithuania1997           NaN     10,120,274,493   \n",
       "...                  ...            ...           ...                ...   \n",
       "26374               8.95    Ukraine2012         0.743    175,781,379,051   \n",
       "26375               7.22    Ukraine2012         0.743    175,781,379,051   \n",
       "26376               5.16    Ukraine2012         0.743    175,781,379,051   \n",
       "26377               4.47    Ukraine2012         0.743    175,781,379,051   \n",
       "26378               1.67    Ukraine2012         0.743    175,781,379,051   \n",
       "26379               1.01    Ukraine2012         0.743    175,781,379,051   \n",
       "26380              66.15    Ukraine2014         0.747    133,503,411,376   \n",
       "26381              42.08    Ukraine2014         0.747    133,503,411,376   \n",
       "26382              40.64    Ukraine2014         0.747    133,503,411,376   \n",
       "26383              36.75    Ukraine2014         0.747    133,503,411,376   \n",
       "26384              22.04    Ukraine2014         0.747    133,503,411,376   \n",
       "26385              15.39    Ukraine2014         0.747    133,503,411,376   \n",
       "26386               8.47    Ukraine2014         0.747    133,503,411,376   \n",
       "26387               6.64    Ukraine2014         0.747    133,503,411,376   \n",
       "26388               5.72    Ukraine2014         0.747    133,503,411,376   \n",
       "26389               4.90    Ukraine2014         0.747    133,503,411,376   \n",
       "26390               1.01    Ukraine2014         0.747    133,503,411,376   \n",
       "26391               0.71    Ukraine2014         0.747    133,503,411,376   \n",
       "26392              70.96    Ukraine2015           NaN     91,030,959,455   \n",
       "26393              43.87    Ukraine2015           NaN     91,030,959,455   \n",
       "26394              37.63    Ukraine2015           NaN     91,030,959,455   \n",
       "26395              31.58    Ukraine2015           NaN     91,030,959,455   \n",
       "26396              21.05    Ukraine2015           NaN     91,030,959,455   \n",
       "26397              13.09    Ukraine2015           NaN     91,030,959,455   \n",
       "26398               7.24    Ukraine2015           NaN     91,030,959,455   \n",
       "26399               6.77    Ukraine2015           NaN     91,030,959,455   \n",
       "26400               5.13    Ukraine2015           NaN     91,030,959,455   \n",
       "26401               4.91    Ukraine2015           NaN     91,030,959,455   \n",
       "26402               1.55    Ukraine2015           NaN     91,030,959,455   \n",
       "26403               0.94    Ukraine2015           NaN     91,030,959,455   \n",
       "\n",
       "       gdp_per_capita ($)       generation  \n",
       "15044                2324          Boomers  \n",
       "15045                2324  G.I. Generation  \n",
       "15046                2324           Silent  \n",
       "15047                2324     Generation X  \n",
       "15048                2324     Generation X  \n",
       "15049                2324  G.I. Generation  \n",
       "15050                2324           Silent  \n",
       "15051                2324          Boomers  \n",
       "15052                2324     Generation X  \n",
       "15053                2324     Generation X  \n",
       "15054                2324       Millenials  \n",
       "15055                2324       Millenials  \n",
       "15056                2484          Boomers  \n",
       "15057                2484           Silent  \n",
       "15058                2484  G.I. Generation  \n",
       "15059                2484     Generation X  \n",
       "15060                2484     Generation X  \n",
       "15061                2484  G.I. Generation  \n",
       "15062                2484           Silent  \n",
       "15063                2484          Boomers  \n",
       "15064                2484     Generation X  \n",
       "15065                2484     Generation X  \n",
       "15066                2484       Millenials  \n",
       "15067                2484       Millenials  \n",
       "15068                3008          Boomers  \n",
       "15069                3008           Silent  \n",
       "15070                3008     Generation X  \n",
       "15071                3008  G.I. Generation  \n",
       "15072                3008     Generation X  \n",
       "15073                3008  G.I. Generation  \n",
       "...                   ...              ...  \n",
       "26374                4096          Boomers  \n",
       "26375                4096     Generation X  \n",
       "26376                4096       Millenials  \n",
       "26377                4096       Millenials  \n",
       "26378                4096     Generation Z  \n",
       "26379                4096     Generation Z  \n",
       "26380                3299           Silent  \n",
       "26381                3299          Boomers  \n",
       "26382                3299     Generation X  \n",
       "26383                3299       Millenials  \n",
       "26384                3299       Millenials  \n",
       "26385                3299           Silent  \n",
       "26386                3299          Boomers  \n",
       "26387                3299     Generation X  \n",
       "26388                3299       Millenials  \n",
       "26389                3299       Millenials  \n",
       "26390                3299     Generation Z  \n",
       "26391                3299     Generation Z  \n",
       "26392                2256           Silent  \n",
       "26393                2256          Boomers  \n",
       "26394                2256     Generation X  \n",
       "26395                2256       Millenials  \n",
       "26396                2256       Millenials  \n",
       "26397                2256           Silent  \n",
       "26398                2256          Boomers  \n",
       "26399                2256     Generation X  \n",
       "26400                2256       Millenials  \n",
       "26401                2256       Millenials  \n",
       "26402                2256     Generation Z  \n",
       "26403                2256     Generation Z  \n",
       "\n",
       "[2736 rows x 12 columns]"
      ]
     },
     "execution_count": 58,
     "metadata": {},
     "output_type": "execute_result"
    }
   ],
   "source": [
    "Top10 = ['Lithuania', 'Russian Federation', 'Hungary', 'Belarus', 'Kazakhstan', 'Latvia', 'Republic of Korea', 'Slovenia', 'Estonia', 'Ukraine']\n",
    "\n",
    "df_top10 = pd.DataFrame()\n",
    "\n",
    "for c in Top10:\n",
    "    filtered_bysuicide = df_filtered2[(df_filtered2['country'] == c)]\n",
    "    df_top10 = df_top10.append(filtered_bysuicide) \n",
    "\n",
    "\n",
    "df_top10\n"
   ]
  },
  {
   "cell_type": "code",
   "execution_count": 59,
   "metadata": {},
   "outputs": [],
   "source": [
    "top10_age = df_top10.groupby(['country', 'age'])['suicides/100k pop'].mean().reset_index()\n",
    "\n"
   ]
  },
  {
   "cell_type": "code",
   "execution_count": 60,
   "metadata": {},
   "outputs": [
    {
     "data": {
      "text/plain": [
       "Text(0, 0.5, 'Suicide Rate')"
      ]
     },
     "execution_count": 60,
     "metadata": {},
     "output_type": "execute_result"
    },
    {
     "data": {
      "image/png": "[encoded data removed]",
      "text/plain": [
       "<Figure size 1152x576 with 1 Axes>"
      ]
     },
     "metadata": {},
     "output_type": "display_data"
    }
   ],
   "source": [
    "color=['red','green','blue','orange','gray','yellow']\n",
    "plt.figure(figsize=(16,8))\n",
    "sns.barplot(x='country',y='suicides/100k pop',hue='age',data=top10_age, palette=color)\n",
    "plt.title(\"Suicide Rate Top 10 Countries by Age\")\n",
    "plt.xticks(rotation=45)\n",
    "plt.ylabel(\"Suicide Rate\")"
   ]
  },
  {
   "cell_type": "markdown",
   "metadata": {},
   "source": [
    "## Which country had the highest suicide rate in which year?"
   ]
  },
  {
   "cell_type": "code",
   "execution_count": 61,
   "metadata": {},
   "outputs": [
    {
     "data": {
      "text/plain": [
       "('Lithuania', 1995)"
      ]
     },
     "execution_count": 61,
     "metadata": {},
     "output_type": "execute_result"
    }
   ],
   "source": [
    "suicides_percountry.idxmax()"
   ]
  },
  {
   "cell_type": "code",
   "execution_count": 63,
   "metadata": {},
   "outputs": [
    {
     "data": {
      "text/plain": [
       "53.275"
      ]
     },
     "execution_count": 63,
     "metadata": {},
     "output_type": "execute_result"
    }
   ],
   "source": [
    "suicides_percountry.max()"
   ]
  },
  {
   "cell_type": "code",
   "execution_count": null,
   "metadata": {},
   "outputs": [],
   "source": []
  },
  {
   "cell_type": "code",
   "execution_count": null,
   "metadata": {},
   "outputs": [],
   "source": []
  },
  {
   "cell_type": "code",
   "execution_count": null,
   "metadata": {},
   "outputs": [],
   "source": []
  },
  {
   "cell_type": "markdown",
   "metadata": {},
   "source": [
    "# Connection between suicide rate and gdp_per_capita"
   ]
  },
  {
   "cell_type": "markdown",
   "metadata": {},
   "source": [
    "## Creating df with gdp_per_capita ($) for each country in each year"
   ]
  },
  {
   "cell_type": "code",
   "execution_count": 66,
   "metadata": {},
   "outputs": [],
   "source": [
    "gdp = df_filtered2[['country', 'year', 'gdp_per_capita ($)']]"
   ]
  },
  {
   "cell_type": "markdown",
   "metadata": {},
   "source": [
    "### Merging Dataframes"
   ]
  },
  {
   "cell_type": "code",
   "execution_count": 67,
   "metadata": {},
   "outputs": [],
   "source": [
    "gdp.set_index('country')\n",
    "df_percountry = suicides_percountry.to_frame()\n",
    "#df_percountry.reset_index(level='year', inplace=True)\n",
    "df_gdp = gdp.groupby(['country', 'year'])['gdp_per_capita ($)'].mean().reset_index()\n",
    "#df_gpd = df_gdp.to_frame()\n",
    "#df_gpd.reset_index(level='year', inplace=True)\n",
    "\n",
    "gpd_suicide = df_gdp.merge(df_percountry, on='country')\n",
    "\n",
    "#gpd_suicide\n",
    "\n"
   ]
  },
  {
   "cell_type": "markdown",
   "metadata": {},
   "source": [
    "### Linear Regression"
   ]
  },
  {
   "cell_type": "code",
   "execution_count": 68,
   "metadata": {},
   "outputs": [
    {
     "data": {
      "text/html": [
       "<div>\n",
       "<style scoped>\n",
       "    .dataframe tbody tr th:only-of-type {\n",
       "        vertical-align: middle;\n",
       "    }\n",
       "\n",
       "    .dataframe tbody tr th {\n",
       "        vertical-align: top;\n",
       "    }\n",
       "\n",
       "    .dataframe thead th {\n",
       "        text-align: right;\n",
       "    }\n",
       "</style>\n",
       "<table border=\"1\" class=\"dataframe\">\n",
       "  <thead>\n",
       "    <tr style=\"text-align: right;\">\n",
       "      <th></th>\n",
       "      <th>year</th>\n",
       "      <th>gdp_per_capita ($)</th>\n",
       "      <th>suicides/100k pop</th>\n",
       "    </tr>\n",
       "  </thead>\n",
       "  <tbody>\n",
       "    <tr>\n",
       "      <th>year</th>\n",
       "      <td>1.000000</td>\n",
       "      <td>0.313781</td>\n",
       "      <td>0.014849</td>\n",
       "    </tr>\n",
       "    <tr>\n",
       "      <th>gdp_per_capita ($)</th>\n",
       "      <td>0.313781</td>\n",
       "      <td>1.000000</td>\n",
       "      <td>0.030923</td>\n",
       "    </tr>\n",
       "    <tr>\n",
       "      <th>suicides/100k pop</th>\n",
       "      <td>0.014849</td>\n",
       "      <td>0.030923</td>\n",
       "      <td>1.000000</td>\n",
       "    </tr>\n",
       "  </tbody>\n",
       "</table>\n",
       "</div>"
      ],
      "text/plain": [
       "                        year  gdp_per_capita ($)  suicides/100k pop\n",
       "year                1.000000            0.313781           0.014849\n",
       "gdp_per_capita ($)  0.313781            1.000000           0.030923\n",
       "suicides/100k pop   0.014849            0.030923           1.000000"
      ]
     },
     "execution_count": 68,
     "metadata": {},
     "output_type": "execute_result"
    }
   ],
   "source": [
    "gpd_suicide.corr() "
   ]
  },
  {
   "cell_type": "markdown",
   "metadata": {},
   "source": [
    "# Correlation between suicide rate and HDI"
   ]
  },
  {
   "cell_type": "markdown",
   "metadata": {},
   "source": [
    "## Creating df with HDI for year for each country in each year"
   ]
  },
  {
   "cell_type": "code",
   "execution_count": 69,
   "metadata": {},
   "outputs": [],
   "source": [
    "hdi = df_filtered2[['country', 'year', 'HDI for year']] "
   ]
  },
  {
   "cell_type": "markdown",
   "metadata": {},
   "source": [
    "### Merging Dataframes on country"
   ]
  },
  {
   "cell_type": "code",
   "execution_count": 70,
   "metadata": {},
   "outputs": [],
   "source": [
    "hdi.set_index('country')\n",
    "df_hdi = hdi.groupby(['country', 'year'])['HDI for year'].mean().reset_index()\n",
    "\n",
    "hdi_suicide = df_hdi.merge(df_percountry, on='country')\n",
    "\n",
    "#hdi_suicide"
   ]
  },
  {
   "cell_type": "code",
   "execution_count": 71,
   "metadata": {},
   "outputs": [
    {
     "data": {
      "text/html": [
       "<div>\n",
       "<style scoped>\n",
       "    .dataframe tbody tr th:only-of-type {\n",
       "        vertical-align: middle;\n",
       "    }\n",
       "\n",
       "    .dataframe tbody tr th {\n",
       "        vertical-align: top;\n",
       "    }\n",
       "\n",
       "    .dataframe thead th {\n",
       "        text-align: right;\n",
       "    }\n",
       "</style>\n",
       "<table border=\"1\" class=\"dataframe\">\n",
       "  <thead>\n",
       "    <tr style=\"text-align: right;\">\n",
       "      <th></th>\n",
       "      <th>year</th>\n",
       "      <th>HDI for year</th>\n",
       "      <th>suicides/100k pop</th>\n",
       "    </tr>\n",
       "  </thead>\n",
       "  <tbody>\n",
       "    <tr>\n",
       "      <th>year</th>\n",
       "      <td>1.000000</td>\n",
       "      <td>0.285087</td>\n",
       "      <td>0.014849</td>\n",
       "    </tr>\n",
       "    <tr>\n",
       "      <th>HDI for year</th>\n",
       "      <td>0.285087</td>\n",
       "      <td>1.000000</td>\n",
       "      <td>0.189695</td>\n",
       "    </tr>\n",
       "    <tr>\n",
       "      <th>suicides/100k pop</th>\n",
       "      <td>0.014849</td>\n",
       "      <td>0.189695</td>\n",
       "      <td>1.000000</td>\n",
       "    </tr>\n",
       "  </tbody>\n",
       "</table>\n",
       "</div>"
      ],
      "text/plain": [
       "                       year  HDI for year  suicides/100k pop\n",
       "year               1.000000      0.285087           0.014849\n",
       "HDI for year       0.285087      1.000000           0.189695\n",
       "suicides/100k pop  0.014849      0.189695           1.000000"
      ]
     },
     "execution_count": 71,
     "metadata": {},
     "output_type": "execute_result"
    }
   ],
   "source": [
    "hdi_suicide.corr()"
   ]
  },
  {
   "cell_type": "markdown",
   "metadata": {},
   "source": [
    "# Suicide rate by country"
   ]
  },
  {
   "cell_type": "code",
   "execution_count": 72,
   "metadata": {},
   "outputs": [],
   "source": [
    "usa = data[(data['country'] == 'United States')]"
   ]
  },
  {
   "cell_type": "code",
   "execution_count": 73,
   "metadata": {},
   "outputs": [],
   "source": [
    "usa_byyear = usa.groupby('year')['suicides/100k pop'].mean()"
   ]
  },
  {
   "cell_type": "code",
   "execution_count": 75,
   "metadata": {},
   "outputs": [
    {
     "data": {
      "text/plain": [
       "(array([1980., 1985., 1990., 1995., 2000., 2005., 2010., 2015., 2020.]),\n",
       " <a list of 9 Text xticklabel objects>)"
      ]
     },
     "execution_count": 75,
     "metadata": {},
     "output_type": "execute_result"
    },
    {
     "data": {
      "image/png": "[encoded data removed]",
      "text/plain": [
       "<Figure size 864x576 with 1 Axes>"
      ]
     },
     "metadata": {},
     "output_type": "display_data"
    }
   ],
   "source": [
    "plt.figure(figsize=(12,8))\n",
    "_ = plt.plot(usa_byyear, color='r')\n",
    "plt.title('Suicide Rate by Year in USA')\n",
    "plt.xlabel('Year')\n",
    "plt.ylabel('suicides/100k')\n",
    "plt.xticks(rotation=45)"
   ]
  },
  {
   "cell_type": "markdown",
   "metadata": {},
   "source": [
    "## Difference between suicide rate in USA compared to suicide rate in world"
   ]
  },
  {
   "cell_type": "code",
   "execution_count": 76,
   "metadata": {},
   "outputs": [],
   "source": [
    "data3 = df_filtered2[(df_filtered2['country'] != 'United States')]\n",
    "mean_suicide_world = data3.groupby('year')['suicides/100k pop'].mean()"
   ]
  },
  {
   "cell_type": "code",
   "execution_count": 77,
   "metadata": {},
   "outputs": [],
   "source": [
    "usa_tocompare = df_filtered2[(df_filtered2['country'] == 'United States')]\n",
    "mean_suicide_usa = usa_tocompare.groupby('year')['suicides/100k pop'].mean()"
   ]
  },
  {
   "cell_type": "code",
   "execution_count": 78,
   "metadata": {},
   "outputs": [
    {
     "data": {
      "text/plain": [
       "<matplotlib.legend.Legend at 0x1320ef1d0>"
      ]
     },
     "execution_count": 78,
     "metadata": {},
     "output_type": "execute_result"
    },
    {
     "data": {
      "image/png": "[encoded data removed]",
      "text/plain": [
       "<Figure size 864x576 with 1 Axes>"
      ]
     },
     "metadata": {},
     "output_type": "display_data"
    }
   ],
   "source": [
    "plt.figure(figsize=(12,8))\n",
    "_ = plt.plot(mean_suicide_world, color='b', label = 'World')\n",
    "_ = plt.plot(mean_suicide_usa, color='r', label = 'USA')\n",
    "plt.title('Mean Suicide Rate by Year')\n",
    "plt.xlabel('Year')\n",
    "plt.ylabel('suicides/100k')\n",
    "plt.xticks(rotation=45)\n",
    "plt.legend()"
   ]
  },
  {
   "cell_type": "markdown",
   "metadata": {},
   "source": [
    "# Differences in Suicide Rate Between Countries"
   ]
  },
  {
   "cell_type": "markdown",
   "metadata": {},
   "source": [
    "#### Taking Russia out of the data set => data4"
   ]
  },
  {
   "cell_type": "code",
   "execution_count": 79,
   "metadata": {},
   "outputs": [],
   "source": [
    "data4= data3[(data3['country'] != 'Russian Federation')]\n",
    "suicide_world_tocompare = data4.groupby('year')['suicides/100k pop'].mean()"
   ]
  },
  {
   "cell_type": "code",
   "execution_count": 80,
   "metadata": {},
   "outputs": [],
   "source": [
    "russia = df_filtered2[(df_filtered2['country'] == 'Russian Federation')]\n",
    "mean_suicide_russia = russia.groupby('year')['suicides/100k pop'].mean()"
   ]
  },
  {
   "cell_type": "code",
   "execution_count": 82,
   "metadata": {},
   "outputs": [
    {
     "data": {
      "text/plain": [
       "<matplotlib.legend.Legend at 0x132157ba8>"
      ]
     },
     "execution_count": 82,
     "metadata": {},
     "output_type": "execute_result"
    },
    {
     "data": {
      "image/png": "[encoded data removed]",
      "text/plain": [
       "<Figure size 864x576 with 1 Axes>"
      ]
     },
     "metadata": {},
     "output_type": "display_data"
    }
   ],
   "source": [
    "plt.figure(figsize=(12,8))\n",
    "_ = plt.plot(mean_suicide_russia, color='g', label='Russia')\n",
    "_ = plt.plot(suicide_world_tocompare, color='b', label = 'World')\n",
    "_ = plt.plot(mean_suicide_usa, color='r', label = 'USA')\n",
    "plt.title('Mean Suicide Rate by Year')\n",
    "plt.xlabel('Year')\n",
    "plt.ylabel('suicides/100k')\n",
    "plt.xticks(rotation=45)\n",
    "plt.legend()"
   ]
  },
  {
   "cell_type": "markdown",
   "metadata": {},
   "source": [
    "#### Taking Israel out of the world data set => data5"
   ]
  },
  {
   "cell_type": "code",
   "execution_count": 84,
   "metadata": {},
   "outputs": [],
   "source": [
    "data5= data3[(data3['country'] != 'Russian Federation')]\n",
    "suicide_world_tocompare_2 = data5.groupby('year')['suicides/100k pop'].mean()"
   ]
  },
  {
   "cell_type": "code",
   "execution_count": 85,
   "metadata": {},
   "outputs": [],
   "source": [
    "israel = df_filtered2[(df_filtered2['country'] == 'Israel')]\n",
    "mean_suicide_israel = israel.groupby('year')['suicides/100k pop'].mean()"
   ]
  },
  {
   "cell_type": "code",
   "execution_count": 86,
   "metadata": {},
   "outputs": [
    {
     "data": {
      "text/plain": [
       "<matplotlib.legend.Legend at 0x133a059b0>"
      ]
     },
     "execution_count": 86,
     "metadata": {},
     "output_type": "execute_result"
    },
    {
     "data": {
      "image/png": "[encoded data removed]",
      "text/plain": [
       "<Figure size 864x576 with 1 Axes>"
      ]
     },
     "metadata": {},
     "output_type": "display_data"
    }
   ],
   "source": [
    "plt.figure(figsize=(12,8))\n",
    "_ = plt.plot(mean_suicide_israel, color='k', label='Israel')\n",
    "_ = plt.plot(mean_suicide_world, color='b', label = 'World')\n",
    "_ = plt.plot(mean_suicide_usa, color='r', label = 'USA')\n",
    "plt.title('Mean Suicide Rate by Year')\n",
    "plt.xlabel('Year')\n",
    "plt.ylabel('suicides/100k')\n",
    "plt.xticks(rotation=45)\n",
    "plt.legend()"
   ]
  },
  {
   "cell_type": "markdown",
   "metadata": {},
   "source": [
    "# Suicide Rate by Gender"
   ]
  },
  {
   "cell_type": "code",
   "execution_count": 87,
   "metadata": {},
   "outputs": [
    {
     "data": {
      "text/html": [
       "<div>\n",
       "<style scoped>\n",
       "    .dataframe tbody tr th:only-of-type {\n",
       "        vertical-align: middle;\n",
       "    }\n",
       "\n",
       "    .dataframe tbody tr th {\n",
       "        vertical-align: top;\n",
       "    }\n",
       "\n",
       "    .dataframe thead th {\n",
       "        text-align: right;\n",
       "    }\n",
       "</style>\n",
       "<table border=\"1\" class=\"dataframe\">\n",
       "  <thead>\n",
       "    <tr style=\"text-align: right;\">\n",
       "      <th>sex</th>\n",
       "      <th>female</th>\n",
       "      <th>male</th>\n",
       "    </tr>\n",
       "    <tr>\n",
       "      <th>year</th>\n",
       "      <th></th>\n",
       "      <th></th>\n",
       "    </tr>\n",
       "  </thead>\n",
       "  <tbody>\n",
       "    <tr>\n",
       "      <th>1991</th>\n",
       "      <td>6.326500</td>\n",
       "      <td>21.746806</td>\n",
       "    </tr>\n",
       "    <tr>\n",
       "      <th>1992</th>\n",
       "      <td>6.525137</td>\n",
       "      <td>21.897022</td>\n",
       "    </tr>\n",
       "    <tr>\n",
       "      <th>1993</th>\n",
       "      <td>6.205054</td>\n",
       "      <td>22.108333</td>\n",
       "    </tr>\n",
       "    <tr>\n",
       "      <th>1994</th>\n",
       "      <td>6.254821</td>\n",
       "      <td>22.333923</td>\n",
       "    </tr>\n",
       "    <tr>\n",
       "      <th>1995</th>\n",
       "      <td>6.762838</td>\n",
       "      <td>25.401036</td>\n",
       "    </tr>\n",
       "    <tr>\n",
       "      <th>1996</th>\n",
       "      <td>6.351347</td>\n",
       "      <td>24.797717</td>\n",
       "    </tr>\n",
       "    <tr>\n",
       "      <th>1997</th>\n",
       "      <td>6.136296</td>\n",
       "      <td>24.479190</td>\n",
       "    </tr>\n",
       "    <tr>\n",
       "      <th>1998</th>\n",
       "      <td>6.169018</td>\n",
       "      <td>24.200046</td>\n",
       "    </tr>\n",
       "    <tr>\n",
       "      <th>1999</th>\n",
       "      <td>6.108604</td>\n",
       "      <td>24.202703</td>\n",
       "    </tr>\n",
       "    <tr>\n",
       "      <th>2000</th>\n",
       "      <td>5.955518</td>\n",
       "      <td>23.814144</td>\n",
       "    </tr>\n",
       "    <tr>\n",
       "      <th>2001</th>\n",
       "      <td>5.765222</td>\n",
       "      <td>23.593000</td>\n",
       "    </tr>\n",
       "    <tr>\n",
       "      <th>2002</th>\n",
       "      <td>5.995356</td>\n",
       "      <td>23.195311</td>\n",
       "    </tr>\n",
       "    <tr>\n",
       "      <th>2003</th>\n",
       "      <td>5.676867</td>\n",
       "      <td>22.741711</td>\n",
       "    </tr>\n",
       "    <tr>\n",
       "      <th>2004</th>\n",
       "      <td>5.580388</td>\n",
       "      <td>21.654658</td>\n",
       "    </tr>\n",
       "    <tr>\n",
       "      <th>2005</th>\n",
       "      <td>5.252176</td>\n",
       "      <td>20.772060</td>\n",
       "    </tr>\n",
       "    <tr>\n",
       "      <th>2006</th>\n",
       "      <td>5.091712</td>\n",
       "      <td>19.936393</td>\n",
       "    </tr>\n",
       "    <tr>\n",
       "      <th>2007</th>\n",
       "      <td>5.335743</td>\n",
       "      <td>20.357117</td>\n",
       "    </tr>\n",
       "    <tr>\n",
       "      <th>2008</th>\n",
       "      <td>5.218851</td>\n",
       "      <td>20.311509</td>\n",
       "    </tr>\n",
       "    <tr>\n",
       "      <th>2009</th>\n",
       "      <td>4.893925</td>\n",
       "      <td>19.903443</td>\n",
       "    </tr>\n",
       "    <tr>\n",
       "      <th>2010</th>\n",
       "      <td>4.926467</td>\n",
       "      <td>20.022467</td>\n",
       "    </tr>\n",
       "    <tr>\n",
       "      <th>2011</th>\n",
       "      <td>4.819838</td>\n",
       "      <td>19.427361</td>\n",
       "    </tr>\n",
       "    <tr>\n",
       "      <th>2012</th>\n",
       "      <td>4.764406</td>\n",
       "      <td>19.372306</td>\n",
       "    </tr>\n",
       "    <tr>\n",
       "      <th>2013</th>\n",
       "      <td>4.614452</td>\n",
       "      <td>18.468607</td>\n",
       "    </tr>\n",
       "    <tr>\n",
       "      <th>2014</th>\n",
       "      <td>4.705169</td>\n",
       "      <td>18.826739</td>\n",
       "    </tr>\n",
       "    <tr>\n",
       "      <th>2015</th>\n",
       "      <td>4.931758</td>\n",
       "      <td>18.665212</td>\n",
       "    </tr>\n",
       "  </tbody>\n",
       "</table>\n",
       "</div>"
      ],
      "text/plain": [
       "sex     female       male\n",
       "year                     \n",
       "1991  6.326500  21.746806\n",
       "1992  6.525137  21.897022\n",
       "1993  6.205054  22.108333\n",
       "1994  6.254821  22.333923\n",
       "1995  6.762838  25.401036\n",
       "1996  6.351347  24.797717\n",
       "1997  6.136296  24.479190\n",
       "1998  6.169018  24.200046\n",
       "1999  6.108604  24.202703\n",
       "2000  5.955518  23.814144\n",
       "2001  5.765222  23.593000\n",
       "2002  5.995356  23.195311\n",
       "2003  5.676867  22.741711\n",
       "2004  5.580388  21.654658\n",
       "2005  5.252176  20.772060\n",
       "2006  5.091712  19.936393\n",
       "2007  5.335743  20.357117\n",
       "2008  5.218851  20.311509\n",
       "2009  4.893925  19.903443\n",
       "2010  4.926467  20.022467\n",
       "2011  4.819838  19.427361\n",
       "2012  4.764406  19.372306\n",
       "2013  4.614452  18.468607\n",
       "2014  4.705169  18.826739\n",
       "2015  4.931758  18.665212"
      ]
     },
     "execution_count": 87,
     "metadata": {},
     "output_type": "execute_result"
    }
   ],
   "source": [
    "sex = df_filtered2.groupby(['sex', 'year'])['suicides/100k pop'].mean()\n",
    "sex = sex.unstack(level=0)\n",
    "sex"
   ]
  },
  {
   "cell_type": "code",
   "execution_count": 89,
   "metadata": {},
   "outputs": [
    {
     "data": {
      "text/plain": [
       "(array([1985., 1990., 1995., 2000., 2005., 2010., 2015., 2020.]),\n",
       " <a list of 8 Text xticklabel objects>)"
      ]
     },
     "execution_count": 89,
     "metadata": {},
     "output_type": "execute_result"
    },
    {
     "data": {
      "image/png": "[encoded data removed]",
      "text/plain": [
       "<Figure size 864x576 with 1 Axes>"
      ]
     },
     "metadata": {},
     "output_type": "display_data"
    }
   ],
   "source": [
    "plt.figure(figsize=(12,8))\n",
    "_ = plt.plot(sex)\n",
    "plt.title('Mean Suicide Rate by Gender')\n",
    "plt.xlabel('Year')\n",
    "plt.ylabel('Suicide Rate/100k')\n",
    "plt.xticks(rotation=45)"
   ]
  },
  {
   "cell_type": "markdown",
   "metadata": {},
   "source": [
    "### Normalize df so that each row sums to 1 to make a stacked bar plot"
   ]
  },
  {
   "cell_type": "code",
   "execution_count": 90,
   "metadata": {},
   "outputs": [],
   "source": [
    " sex_pct = sex.div(sex.sum(1).astype(float), axis=0)"
   ]
  },
  {
   "cell_type": "code",
   "execution_count": 100,
   "metadata": {},
   "outputs": [
    {
     "data": {
      "text/plain": [
       "<matplotlib.legend.Legend at 0x134e52668>"
      ]
     },
     "execution_count": 100,
     "metadata": {},
     "output_type": "execute_result"
    },
    {
     "data": {
      "text/plain": [
       "<Figure size 864x576 with 0 Axes>"
      ]
     },
     "metadata": {},
     "output_type": "display_data"
    },
    {
     "data": {
      "image/png": "[encoded data removed]",
      "text/plain": [
       "<Figure size 432x288 with 1 Axes>"
      ]
     },
     "metadata": {},
     "output_type": "display_data"
    }
   ],
   "source": [
    "plt.figure(figsize=(12,8))\n",
    "sex_pct.plot(kind='bar', stacked=True)\n",
    "plt.legend(loc='lower right', bbox_to_anchor=(1.25, 0.5))"
   ]
  },
  {
   "cell_type": "code",
   "execution_count": 94,
   "metadata": {},
   "outputs": [
    {
     "data": {
      "text/html": [
       "<div>\n",
       "<style scoped>\n",
       "    .dataframe tbody tr th:only-of-type {\n",
       "        vertical-align: middle;\n",
       "    }\n",
       "\n",
       "    .dataframe tbody tr th {\n",
       "        vertical-align: top;\n",
       "    }\n",
       "\n",
       "    .dataframe thead th {\n",
       "        text-align: right;\n",
       "    }\n",
       "</style>\n",
       "<table border=\"1\" class=\"dataframe\">\n",
       "  <thead>\n",
       "    <tr style=\"text-align: right;\">\n",
       "      <th>generation</th>\n",
       "      <th>Boomers</th>\n",
       "      <th>G.I. Generation</th>\n",
       "      <th>Generation X</th>\n",
       "      <th>Generation Z</th>\n",
       "      <th>Millenials</th>\n",
       "      <th>Silent</th>\n",
       "    </tr>\n",
       "    <tr>\n",
       "      <th>year</th>\n",
       "      <th></th>\n",
       "      <th></th>\n",
       "      <th></th>\n",
       "      <th></th>\n",
       "      <th></th>\n",
       "      <th></th>\n",
       "    </tr>\n",
       "  </thead>\n",
       "  <tbody>\n",
       "    <tr>\n",
       "      <th>1991</th>\n",
       "      <td>14.162792</td>\n",
       "      <td>28.394083</td>\n",
       "      <td>9.793167</td>\n",
       "      <td>NaN</td>\n",
       "      <td>0.605000</td>\n",
       "      <td>17.102083</td>\n",
       "    </tr>\n",
       "    <tr>\n",
       "      <th>1992</th>\n",
       "      <td>14.905984</td>\n",
       "      <td>27.499098</td>\n",
       "      <td>9.487295</td>\n",
       "      <td>NaN</td>\n",
       "      <td>0.621066</td>\n",
       "      <td>17.847049</td>\n",
       "    </tr>\n",
       "    <tr>\n",
       "      <th>1993</th>\n",
       "      <td>15.011371</td>\n",
       "      <td>27.371210</td>\n",
       "      <td>9.216774</td>\n",
       "      <td>NaN</td>\n",
       "      <td>0.643790</td>\n",
       "      <td>17.685645</td>\n",
       "    </tr>\n",
       "    <tr>\n",
       "      <th>1994</th>\n",
       "      <td>14.521269</td>\n",
       "      <td>28.953769</td>\n",
       "      <td>9.382692</td>\n",
       "      <td>NaN</td>\n",
       "      <td>0.573846</td>\n",
       "      <td>17.813385</td>\n",
       "    </tr>\n",
       "    <tr>\n",
       "      <th>1995</th>\n",
       "      <td>19.492770</td>\n",
       "      <td>30.256284</td>\n",
       "      <td>12.979831</td>\n",
       "      <td>NaN</td>\n",
       "      <td>0.635878</td>\n",
       "      <td>20.147027</td>\n",
       "    </tr>\n",
       "    <tr>\n",
       "      <th>1996</th>\n",
       "      <td>18.804863</td>\n",
       "      <td>28.940205</td>\n",
       "      <td>12.480342</td>\n",
       "      <td>NaN</td>\n",
       "      <td>0.621986</td>\n",
       "      <td>20.119452</td>\n",
       "    </tr>\n",
       "    <tr>\n",
       "      <th>1997</th>\n",
       "      <td>18.136875</td>\n",
       "      <td>28.691458</td>\n",
       "      <td>12.452118</td>\n",
       "      <td>NaN</td>\n",
       "      <td>0.650486</td>\n",
       "      <td>19.463403</td>\n",
       "    </tr>\n",
       "    <tr>\n",
       "      <th>1998</th>\n",
       "      <td>18.359658</td>\n",
       "      <td>27.724726</td>\n",
       "      <td>12.378733</td>\n",
       "      <td>NaN</td>\n",
       "      <td>0.681507</td>\n",
       "      <td>19.583836</td>\n",
       "    </tr>\n",
       "    <tr>\n",
       "      <th>1999</th>\n",
       "      <td>18.314662</td>\n",
       "      <td>26.862703</td>\n",
       "      <td>12.904527</td>\n",
       "      <td>NaN</td>\n",
       "      <td>0.697635</td>\n",
       "      <td>19.249865</td>\n",
       "    </tr>\n",
       "    <tr>\n",
       "      <th>2000</th>\n",
       "      <td>18.075338</td>\n",
       "      <td>26.542635</td>\n",
       "      <td>12.451318</td>\n",
       "      <td>NaN</td>\n",
       "      <td>0.581824</td>\n",
       "      <td>19.206554</td>\n",
       "    </tr>\n",
       "    <tr>\n",
       "      <th>2001</th>\n",
       "      <td>17.851933</td>\n",
       "      <td>NaN</td>\n",
       "      <td>14.431733</td>\n",
       "      <td>NaN</td>\n",
       "      <td>5.369433</td>\n",
       "      <td>22.526067</td>\n",
       "    </tr>\n",
       "    <tr>\n",
       "      <th>2002</th>\n",
       "      <td>17.592000</td>\n",
       "      <td>NaN</td>\n",
       "      <td>14.136267</td>\n",
       "      <td>NaN</td>\n",
       "      <td>5.389700</td>\n",
       "      <td>22.532167</td>\n",
       "    </tr>\n",
       "    <tr>\n",
       "      <th>2003</th>\n",
       "      <td>17.110733</td>\n",
       "      <td>NaN</td>\n",
       "      <td>13.587533</td>\n",
       "      <td>NaN</td>\n",
       "      <td>5.204400</td>\n",
       "      <td>22.074333</td>\n",
       "    </tr>\n",
       "    <tr>\n",
       "      <th>2004</th>\n",
       "      <td>16.577808</td>\n",
       "      <td>NaN</td>\n",
       "      <td>13.149863</td>\n",
       "      <td>NaN</td>\n",
       "      <td>5.157158</td>\n",
       "      <td>20.831575</td>\n",
       "    </tr>\n",
       "    <tr>\n",
       "      <th>2005</th>\n",
       "      <td>15.635347</td>\n",
       "      <td>NaN</td>\n",
       "      <td>12.896111</td>\n",
       "      <td>NaN</td>\n",
       "      <td>4.905590</td>\n",
       "      <td>19.865035</td>\n",
       "    </tr>\n",
       "    <tr>\n",
       "      <th>2006</th>\n",
       "      <td>15.078425</td>\n",
       "      <td>NaN</td>\n",
       "      <td>11.562808</td>\n",
       "      <td>NaN</td>\n",
       "      <td>4.943082</td>\n",
       "      <td>19.278459</td>\n",
       "    </tr>\n",
       "    <tr>\n",
       "      <th>2007</th>\n",
       "      <td>15.000608</td>\n",
       "      <td>NaN</td>\n",
       "      <td>12.833041</td>\n",
       "      <td>0.717365</td>\n",
       "      <td>9.091689</td>\n",
       "      <td>19.717939</td>\n",
       "    </tr>\n",
       "    <tr>\n",
       "      <th>2008</th>\n",
       "      <td>15.483378</td>\n",
       "      <td>NaN</td>\n",
       "      <td>12.037230</td>\n",
       "      <td>0.651284</td>\n",
       "      <td>9.190676</td>\n",
       "      <td>19.614257</td>\n",
       "    </tr>\n",
       "    <tr>\n",
       "      <th>2009</th>\n",
       "      <td>15.387368</td>\n",
       "      <td>NaN</td>\n",
       "      <td>12.234342</td>\n",
       "      <td>0.669013</td>\n",
       "      <td>9.011184</td>\n",
       "      <td>18.545099</td>\n",
       "    </tr>\n",
       "    <tr>\n",
       "      <th>2010</th>\n",
       "      <td>NaN</td>\n",
       "      <td>NaN</td>\n",
       "      <td>13.574200</td>\n",
       "      <td>0.736000</td>\n",
       "      <td>8.939800</td>\n",
       "      <td>19.011300</td>\n",
       "    </tr>\n",
       "    <tr>\n",
       "      <th>2011</th>\n",
       "      <td>15.232431</td>\n",
       "      <td>NaN</td>\n",
       "      <td>14.633472</td>\n",
       "      <td>0.652014</td>\n",
       "      <td>10.553681</td>\n",
       "      <td>21.116319</td>\n",
       "    </tr>\n",
       "    <tr>\n",
       "      <th>2012</th>\n",
       "      <td>15.192671</td>\n",
       "      <td>NaN</td>\n",
       "      <td>14.520068</td>\n",
       "      <td>0.691849</td>\n",
       "      <td>10.155342</td>\n",
       "      <td>21.694863</td>\n",
       "    </tr>\n",
       "    <tr>\n",
       "      <th>2013</th>\n",
       "      <td>14.649247</td>\n",
       "      <td>NaN</td>\n",
       "      <td>13.958493</td>\n",
       "      <td>0.702329</td>\n",
       "      <td>9.822877</td>\n",
       "      <td>20.293356</td>\n",
       "    </tr>\n",
       "    <tr>\n",
       "      <th>2014</th>\n",
       "      <td>14.692319</td>\n",
       "      <td>NaN</td>\n",
       "      <td>13.573696</td>\n",
       "      <td>0.701087</td>\n",
       "      <td>9.840435</td>\n",
       "      <td>21.947754</td>\n",
       "    </tr>\n",
       "    <tr>\n",
       "      <th>2015</th>\n",
       "      <td>15.481455</td>\n",
       "      <td>NaN</td>\n",
       "      <td>13.347455</td>\n",
       "      <td>0.760364</td>\n",
       "      <td>9.364636</td>\n",
       "      <td>22.472364</td>\n",
       "    </tr>\n",
       "  </tbody>\n",
       "</table>\n",
       "</div>"
      ],
      "text/plain": [
       "generation    Boomers  G.I. Generation  Generation X  Generation Z  \\\n",
       "year                                                                 \n",
       "1991        14.162792        28.394083      9.793167           NaN   \n",
       "1992        14.905984        27.499098      9.487295           NaN   \n",
       "1993        15.011371        27.371210      9.216774           NaN   \n",
       "1994        14.521269        28.953769      9.382692           NaN   \n",
       "1995        19.492770        30.256284     12.979831           NaN   \n",
       "1996        18.804863        28.940205     12.480342           NaN   \n",
       "1997        18.136875        28.691458     12.452118           NaN   \n",
       "1998        18.359658        27.724726     12.378733           NaN   \n",
       "1999        18.314662        26.862703     12.904527           NaN   \n",
       "2000        18.075338        26.542635     12.451318           NaN   \n",
       "2001        17.851933              NaN     14.431733           NaN   \n",
       "2002        17.592000              NaN     14.136267           NaN   \n",
       "2003        17.110733              NaN     13.587533           NaN   \n",
       "2004        16.577808              NaN     13.149863           NaN   \n",
       "2005        15.635347              NaN     12.896111           NaN   \n",
       "2006        15.078425              NaN     11.562808           NaN   \n",
       "2007        15.000608              NaN     12.833041      0.717365   \n",
       "2008        15.483378              NaN     12.037230      0.651284   \n",
       "2009        15.387368              NaN     12.234342      0.669013   \n",
       "2010              NaN              NaN     13.574200      0.736000   \n",
       "2011        15.232431              NaN     14.633472      0.652014   \n",
       "2012        15.192671              NaN     14.520068      0.691849   \n",
       "2013        14.649247              NaN     13.958493      0.702329   \n",
       "2014        14.692319              NaN     13.573696      0.701087   \n",
       "2015        15.481455              NaN     13.347455      0.760364   \n",
       "\n",
       "generation  Millenials     Silent  \n",
       "year                               \n",
       "1991          0.605000  17.102083  \n",
       "1992          0.621066  17.847049  \n",
       "1993          0.643790  17.685645  \n",
       "1994          0.573846  17.813385  \n",
       "1995          0.635878  20.147027  \n",
       "1996          0.621986  20.119452  \n",
       "1997          0.650486  19.463403  \n",
       "1998          0.681507  19.583836  \n",
       "1999          0.697635  19.249865  \n",
       "2000          0.581824  19.206554  \n",
       "2001          5.369433  22.526067  \n",
       "2002          5.389700  22.532167  \n",
       "2003          5.204400  22.074333  \n",
       "2004          5.157158  20.831575  \n",
       "2005          4.905590  19.865035  \n",
       "2006          4.943082  19.278459  \n",
       "2007          9.091689  19.717939  \n",
       "2008          9.190676  19.614257  \n",
       "2009          9.011184  18.545099  \n",
       "2010          8.939800  19.011300  \n",
       "2011         10.553681  21.116319  \n",
       "2012         10.155342  21.694863  \n",
       "2013          9.822877  20.293356  \n",
       "2014          9.840435  21.947754  \n",
       "2015          9.364636  22.472364  "
      ]
     },
     "execution_count": 94,
     "metadata": {},
     "output_type": "execute_result"
    }
   ],
   "source": [
    "generation = df_filtered2.groupby(['generation', 'year'])['suicides/100k pop'].mean()\n",
    "generation = generation.unstack(level=0)\n",
    "generation "
   ]
  },
  {
   "cell_type": "code",
   "execution_count": 95,
   "metadata": {},
   "outputs": [],
   "source": [
    "generation_pct = generation.div(generation.sum(1).astype(float), axis=0)"
   ]
  },
  {
   "cell_type": "code",
   "execution_count": 101,
   "metadata": {},
   "outputs": [
    {
     "data": {
      "text/plain": [
       "<matplotlib.legend.Legend at 0x13590c160>"
      ]
     },
     "execution_count": 101,
     "metadata": {},
     "output_type": "execute_result"
    },
    {
     "data": {
      "text/plain": [
       "<Figure size 864x576 with 0 Axes>"
      ]
     },
     "metadata": {},
     "output_type": "display_data"
    },
    {
     "data": {
      "image/png": "[encoded data removed]",
      "text/plain": [
       "<Figure size 432x288 with 1 Axes>"
      ]
     },
     "metadata": {},
     "output_type": "display_data"
    }
   ],
   "source": [
    "plt.figure(figsize=(12,8))\n",
    "generation_pct.plot(kind='bar', stacked=True)\n",
    "plt.legend(loc='lower right', bbox_to_anchor=(1.25, 0.5))"
   ]
  },
  {
   "cell_type": "code",
   "execution_count": 102,
   "metadata": {},
   "outputs": [],
   "source": [
    "age = df_filtered2.groupby(['age', 'year'])['suicides/100k pop'].mean()\n",
    "age = age.unstack(level=0)\n",
    "#age"
   ]
  },
  {
   "cell_type": "code",
   "execution_count": 103,
   "metadata": {},
   "outputs": [],
   "source": [
    "age_pct = age.div(age.sum(1).astype(float), axis=0)\n",
    "#age_pct"
   ]
  },
  {
   "cell_type": "code",
   "execution_count": 104,
   "metadata": {},
   "outputs": [
    {
     "data": {
      "text/plain": [
       "<matplotlib.legend.Legend at 0x135ac80f0>"
      ]
     },
     "execution_count": 104,
     "metadata": {},
     "output_type": "execute_result"
    },
    {
     "data": {
      "image/png": "[encoded data removed]",
      "text/plain": [
       "<Figure size 432x288 with 1 Axes>"
      ]
     },
     "metadata": {},
     "output_type": "display_data"
    }
   ],
   "source": [
    "age_pct.plot(kind='bar', stacked=True)\n",
    "plt.legend(loc='lower right', bbox_to_anchor=(1.25, 0.5))"
   ]
  },
  {
   "cell_type": "code",
   "execution_count": null,
   "metadata": {},
   "outputs": [],
   "source": []
  }
 ],
 "metadata": {
  "kernelspec": {
   "display_name": "Python 3",
   "language": "python",
   "name": "python3"
  },
  "language_info": {
   "codemirror_mode": {
    "name": "ipython",
    "version": 3
   },
   "file_extension": ".py",
   "mimetype": "text/x-python",
   "name": "python",
   "nbconvert_exporter": "python",
   "pygments_lexer": "ipython3",
   "version": "3.6.6"
  }
 },
 "nbformat": 4,
 "nbformat_minor": 2
}
